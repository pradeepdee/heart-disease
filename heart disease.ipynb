{
 "cells": [
  {
   "cell_type": "code",
   "execution_count": 2,
   "id": "72ea6e65",
   "metadata": {},
   "outputs": [],
   "source": [
    "import numpy as np\n",
    "import pandas as pd\n",
    "import matplotlib.pyplot as plt\n",
    "import seaborn as sns\n",
    "import warnings\n",
    "import os\n",
    "import pickle\n",
    " \n",
    "from warnings import filterwarnings\n",
    "filterwarnings('ignore')\n",
    "from matplotlib.collections import PathCollection\n",
    "from statsmodels.graphics.gofplots import qqplot\n",
    "from sklearn.preprocessing import MinMaxScaler\n",
    "from sklearn.model_selection import train_test_split\n",
    "from sklearn.linear_model import LogisticRegression\n",
    "from sklearn.neighbors import KNeighborsClassifier\n",
    "from sklearn.svm import SVC\n",
    "from sklearn.naive_bayes import GaussianNB\n",
    "from sklearn.tree import DecisionTreeClassifier\n",
    "from sklearn.ensemble import RandomForestClassifier, GradientBoostingClassifier, AdaBoostClassifier, ExtraTreesClassifier\n",
    "from sklearn.metrics import classification_report, accuracy_score"
   ]
  },
  {
   "cell_type": "code",
   "execution_count": 3,
   "id": "ec04ea8c",
   "metadata": {},
   "outputs": [],
   "source": [
    "df =pd.read_csv (\"C:/Users/admin/OneDrive/Desktop/dataset/heart.csv\")"
   ]
  },
  {
   "cell_type": "code",
   "execution_count": 12,
   "id": "35792f5c",
   "metadata": {},
   "outputs": [
    {
     "data": {
      "text/html": [
       "<div>\n",
       "<style scoped>\n",
       "    .dataframe tbody tr th:only-of-type {\n",
       "        vertical-align: middle;\n",
       "    }\n",
       "\n",
       "    .dataframe tbody tr th {\n",
       "        vertical-align: top;\n",
       "    }\n",
       "\n",
       "    .dataframe thead th {\n",
       "        text-align: right;\n",
       "    }\n",
       "</style>\n",
       "<table border=\"1\" class=\"dataframe\">\n",
       "  <thead>\n",
       "    <tr style=\"text-align: right;\">\n",
       "      <th></th>\n",
       "      <th>age</th>\n",
       "      <th>sex</th>\n",
       "      <th>cp</th>\n",
       "      <th>trestbps</th>\n",
       "      <th>chol</th>\n",
       "      <th>fbs</th>\n",
       "      <th>restecg</th>\n",
       "      <th>thalach</th>\n",
       "      <th>exang</th>\n",
       "      <th>oldpeak</th>\n",
       "      <th>slope</th>\n",
       "      <th>ca</th>\n",
       "      <th>thal</th>\n",
       "      <th>target</th>\n",
       "    </tr>\n",
       "  </thead>\n",
       "  <tbody>\n",
       "    <tr>\n",
       "      <th>count</th>\n",
       "      <td>303.000000</td>\n",
       "      <td>303.000000</td>\n",
       "      <td>303.000000</td>\n",
       "      <td>303.000000</td>\n",
       "      <td>303.000000</td>\n",
       "      <td>303.000000</td>\n",
       "      <td>303.000000</td>\n",
       "      <td>303.000000</td>\n",
       "      <td>303.000000</td>\n",
       "      <td>303.000000</td>\n",
       "      <td>303.000000</td>\n",
       "      <td>303.000000</td>\n",
       "      <td>303.000000</td>\n",
       "      <td>303.000000</td>\n",
       "    </tr>\n",
       "    <tr>\n",
       "      <th>mean</th>\n",
       "      <td>54.366337</td>\n",
       "      <td>0.683168</td>\n",
       "      <td>0.966997</td>\n",
       "      <td>131.623762</td>\n",
       "      <td>246.264026</td>\n",
       "      <td>0.148515</td>\n",
       "      <td>0.528053</td>\n",
       "      <td>149.646865</td>\n",
       "      <td>0.326733</td>\n",
       "      <td>1.039604</td>\n",
       "      <td>1.399340</td>\n",
       "      <td>0.729373</td>\n",
       "      <td>2.313531</td>\n",
       "      <td>0.544554</td>\n",
       "    </tr>\n",
       "    <tr>\n",
       "      <th>std</th>\n",
       "      <td>9.082101</td>\n",
       "      <td>0.466011</td>\n",
       "      <td>1.032052</td>\n",
       "      <td>17.538143</td>\n",
       "      <td>51.830751</td>\n",
       "      <td>0.356198</td>\n",
       "      <td>0.525860</td>\n",
       "      <td>22.905161</td>\n",
       "      <td>0.469794</td>\n",
       "      <td>1.161075</td>\n",
       "      <td>0.616226</td>\n",
       "      <td>1.022606</td>\n",
       "      <td>0.612277</td>\n",
       "      <td>0.498835</td>\n",
       "    </tr>\n",
       "    <tr>\n",
       "      <th>min</th>\n",
       "      <td>29.000000</td>\n",
       "      <td>0.000000</td>\n",
       "      <td>0.000000</td>\n",
       "      <td>94.000000</td>\n",
       "      <td>126.000000</td>\n",
       "      <td>0.000000</td>\n",
       "      <td>0.000000</td>\n",
       "      <td>71.000000</td>\n",
       "      <td>0.000000</td>\n",
       "      <td>0.000000</td>\n",
       "      <td>0.000000</td>\n",
       "      <td>0.000000</td>\n",
       "      <td>0.000000</td>\n",
       "      <td>0.000000</td>\n",
       "    </tr>\n",
       "    <tr>\n",
       "      <th>25%</th>\n",
       "      <td>47.500000</td>\n",
       "      <td>0.000000</td>\n",
       "      <td>0.000000</td>\n",
       "      <td>120.000000</td>\n",
       "      <td>211.000000</td>\n",
       "      <td>0.000000</td>\n",
       "      <td>0.000000</td>\n",
       "      <td>133.500000</td>\n",
       "      <td>0.000000</td>\n",
       "      <td>0.000000</td>\n",
       "      <td>1.000000</td>\n",
       "      <td>0.000000</td>\n",
       "      <td>2.000000</td>\n",
       "      <td>0.000000</td>\n",
       "    </tr>\n",
       "    <tr>\n",
       "      <th>50%</th>\n",
       "      <td>55.000000</td>\n",
       "      <td>1.000000</td>\n",
       "      <td>1.000000</td>\n",
       "      <td>130.000000</td>\n",
       "      <td>240.000000</td>\n",
       "      <td>0.000000</td>\n",
       "      <td>1.000000</td>\n",
       "      <td>153.000000</td>\n",
       "      <td>0.000000</td>\n",
       "      <td>0.800000</td>\n",
       "      <td>1.000000</td>\n",
       "      <td>0.000000</td>\n",
       "      <td>2.000000</td>\n",
       "      <td>1.000000</td>\n",
       "    </tr>\n",
       "    <tr>\n",
       "      <th>75%</th>\n",
       "      <td>61.000000</td>\n",
       "      <td>1.000000</td>\n",
       "      <td>2.000000</td>\n",
       "      <td>140.000000</td>\n",
       "      <td>274.500000</td>\n",
       "      <td>0.000000</td>\n",
       "      <td>1.000000</td>\n",
       "      <td>166.000000</td>\n",
       "      <td>1.000000</td>\n",
       "      <td>1.600000</td>\n",
       "      <td>2.000000</td>\n",
       "      <td>1.000000</td>\n",
       "      <td>3.000000</td>\n",
       "      <td>1.000000</td>\n",
       "    </tr>\n",
       "    <tr>\n",
       "      <th>max</th>\n",
       "      <td>77.000000</td>\n",
       "      <td>1.000000</td>\n",
       "      <td>3.000000</td>\n",
       "      <td>200.000000</td>\n",
       "      <td>564.000000</td>\n",
       "      <td>1.000000</td>\n",
       "      <td>2.000000</td>\n",
       "      <td>202.000000</td>\n",
       "      <td>1.000000</td>\n",
       "      <td>6.200000</td>\n",
       "      <td>2.000000</td>\n",
       "      <td>4.000000</td>\n",
       "      <td>3.000000</td>\n",
       "      <td>1.000000</td>\n",
       "    </tr>\n",
       "  </tbody>\n",
       "</table>\n",
       "</div>"
      ],
      "text/plain": [
       "              age         sex          cp    trestbps        chol         fbs  \\\n",
       "count  303.000000  303.000000  303.000000  303.000000  303.000000  303.000000   \n",
       "mean    54.366337    0.683168    0.966997  131.623762  246.264026    0.148515   \n",
       "std      9.082101    0.466011    1.032052   17.538143   51.830751    0.356198   \n",
       "min     29.000000    0.000000    0.000000   94.000000  126.000000    0.000000   \n",
       "25%     47.500000    0.000000    0.000000  120.000000  211.000000    0.000000   \n",
       "50%     55.000000    1.000000    1.000000  130.000000  240.000000    0.000000   \n",
       "75%     61.000000    1.000000    2.000000  140.000000  274.500000    0.000000   \n",
       "max     77.000000    1.000000    3.000000  200.000000  564.000000    1.000000   \n",
       "\n",
       "          restecg     thalach       exang     oldpeak       slope          ca  \\\n",
       "count  303.000000  303.000000  303.000000  303.000000  303.000000  303.000000   \n",
       "mean     0.528053  149.646865    0.326733    1.039604    1.399340    0.729373   \n",
       "std      0.525860   22.905161    0.469794    1.161075    0.616226    1.022606   \n",
       "min      0.000000   71.000000    0.000000    0.000000    0.000000    0.000000   \n",
       "25%      0.000000  133.500000    0.000000    0.000000    1.000000    0.000000   \n",
       "50%      1.000000  153.000000    0.000000    0.800000    1.000000    0.000000   \n",
       "75%      1.000000  166.000000    1.000000    1.600000    2.000000    1.000000   \n",
       "max      2.000000  202.000000    1.000000    6.200000    2.000000    4.000000   \n",
       "\n",
       "             thal      target  \n",
       "count  303.000000  303.000000  \n",
       "mean     2.313531    0.544554  \n",
       "std      0.612277    0.498835  \n",
       "min      0.000000    0.000000  \n",
       "25%      2.000000    0.000000  \n",
       "50%      2.000000    1.000000  \n",
       "75%      3.000000    1.000000  \n",
       "max      3.000000    1.000000  "
      ]
     },
     "execution_count": 12,
     "metadata": {},
     "output_type": "execute_result"
    }
   ],
   "source": [
    "df.describe()"
   ]
  },
  {
   "cell_type": "code",
   "execution_count": 13,
   "id": "62634aa8",
   "metadata": {},
   "outputs": [
    {
     "data": {
      "text/plain": [
       "(303, 14)"
      ]
     },
     "execution_count": 13,
     "metadata": {},
     "output_type": "execute_result"
    }
   ],
   "source": [
    "df.shape"
   ]
  },
  {
   "cell_type": "code",
   "execution_count": 16,
   "id": "ed464c06",
   "metadata": {},
   "outputs": [
    {
     "data": {
      "text/plain": [
       "1    207\n",
       "0     96\n",
       "Name: sex, dtype: int64"
      ]
     },
     "execution_count": 16,
     "metadata": {},
     "output_type": "execute_result"
    }
   ],
   "source": [
    "df.sex.value_counts()"
   ]
  },
  {
   "cell_type": "code",
   "execution_count": 18,
   "id": "44fb2568",
   "metadata": {},
   "outputs": [
    {
     "data": {
      "text/plain": [
       "age         0\n",
       "sex         0\n",
       "cp          0\n",
       "trestbps    0\n",
       "chol        0\n",
       "fbs         0\n",
       "restecg     0\n",
       "thalach     0\n",
       "exang       0\n",
       "oldpeak     0\n",
       "slope       0\n",
       "ca          0\n",
       "thal        0\n",
       "target      0\n",
       "dtype: int64"
      ]
     },
     "execution_count": 18,
     "metadata": {},
     "output_type": "execute_result"
    }
   ],
   "source": [
    "df.isnull().sum()"
   ]
  },
  {
   "cell_type": "code",
   "execution_count": 64,
   "id": "7acd744c",
   "metadata": {},
   "outputs": [
    {
     "data": {
      "image/png": "[encoded data removed]",
      "text/plain": [
       "<Figure size 432x288 with 1 Axes>"
      ]
     },
     "metadata": {
      "needs_background": "light"
     },
     "output_type": "display_data"
    },
    {
     "name": "stdout",
     "output_type": "stream",
     "text": [
      "*************************\n",
      "\u001b[1m.: Sex (Gender) Total :.\u001b[0m\n",
      "*************************\n"
     ]
    },
    {
     "data": {
      "text/plain": [
       "1    207\n",
       "0     96\n",
       "Name: sex, dtype: int64"
      ]
     },
     "execution_count": 64,
     "metadata": {},
     "output_type": "execute_result"
    }
   ],
   "source": [
    "labels = ['Female','Male']\n",
    "order=df['sex']. value_counts().index\n",
    "ax = sns.countplot(x = 'sex',data = df, order = order, alpha = 0.85)\n",
    "plt.title('histogram of sex')\n",
    "\n",
    "for rect in ax.patches:\n",
    "    ax.text (rect.get_x()+rect.get_width()/2, \n",
    "             rect.get_height()+4.25,rect.get_height(), \n",
    "             horizontalalignment='center', fontsize=10, \n",
    "             bbox=dict(facecolor='none',linewidth=0.25, boxstyle='round'))\n",
    "plt.xlabel('gender',fontsize=11, fontfamily='sans-serif')\n",
    "plt.ylabel('total',fontsize=11, fontfamily='sans-serif')\n",
    "plt.xticks([0, 1], labels)\n",
    "plt.grid(axis='y', alpha=0.4)\n",
    "plt.show()\n",
    "print('*' * 25)\n",
    "print('\\033[1m'+'.: Sex (Gender) Total :.'+'\\033[0m')\n",
    "print('*' * 25)\n",
    "df.sex.value_counts(dropna=False)"
   ]
  },
  {
   "cell_type": "code",
   "execution_count": null,
   "id": "da6713b6",
   "metadata": {},
   "outputs": [],
   "source": [
    "#The distribution of female patients are highest compared to male patients ."
   ]
  },
  {
   "cell_type": "code",
   "execution_count": 63,
   "id": "3ad6e9b6",
   "metadata": {},
   "outputs": [
    {
     "ename": "ValueError",
     "evalue": "The number of FixedLocator locations (2), usually from a call to set_ticks, does not match the number of ticklabels (4).",
     "output_type": "error",
     "traceback": [
      "\u001b[1;31m---------------------------------------------------------------------------\u001b[0m",
      "\u001b[1;31mValueError\u001b[0m                                Traceback (most recent call last)",
      "\u001b[1;32m~\\AppData\\Local\\Temp/ipykernel_13876/408385454.py\u001b[0m in \u001b[0;36m<module>\u001b[1;34m\u001b[0m\n\u001b[0;32m     11\u001b[0m \u001b[0mplt\u001b[0m\u001b[1;33m.\u001b[0m\u001b[0mxlabel\u001b[0m\u001b[1;33m(\u001b[0m\u001b[1;34m'Pain Type'\u001b[0m\u001b[1;33m,\u001b[0m\u001b[0mfontsize\u001b[0m\u001b[1;33m=\u001b[0m\u001b[1;36m11\u001b[0m\u001b[1;33m,\u001b[0m \u001b[0mfontfamily\u001b[0m\u001b[1;33m=\u001b[0m\u001b[1;34m'sans-serif'\u001b[0m\u001b[1;33m)\u001b[0m\u001b[1;33m\u001b[0m\u001b[1;33m\u001b[0m\u001b[0m\n\u001b[0;32m     12\u001b[0m \u001b[0mplt\u001b[0m\u001b[1;33m.\u001b[0m\u001b[0mylabel\u001b[0m\u001b[1;33m(\u001b[0m\u001b[1;34m'total'\u001b[0m\u001b[1;33m,\u001b[0m\u001b[0mfontsize\u001b[0m\u001b[1;33m=\u001b[0m\u001b[1;36m11\u001b[0m\u001b[1;33m,\u001b[0m \u001b[0mfontfamily\u001b[0m\u001b[1;33m=\u001b[0m\u001b[1;34m'sans-serif'\u001b[0m\u001b[1;33m)\u001b[0m\u001b[1;33m\u001b[0m\u001b[1;33m\u001b[0m\u001b[0m\n\u001b[1;32m---> 13\u001b[1;33m \u001b[0mplt\u001b[0m\u001b[1;33m.\u001b[0m\u001b[0mxticks\u001b[0m\u001b[1;33m(\u001b[0m\u001b[1;33m[\u001b[0m\u001b[1;36m0\u001b[0m\u001b[1;33m,\u001b[0m \u001b[1;36m1\u001b[0m\u001b[1;33m]\u001b[0m\u001b[1;33m,\u001b[0m \u001b[0mlabels\u001b[0m\u001b[1;33m)\u001b[0m\u001b[1;33m\u001b[0m\u001b[1;33m\u001b[0m\u001b[0m\n\u001b[0m\u001b[0;32m     14\u001b[0m \u001b[0mplt\u001b[0m\u001b[1;33m.\u001b[0m\u001b[0mgrid\u001b[0m\u001b[1;33m(\u001b[0m\u001b[0maxis\u001b[0m\u001b[1;33m=\u001b[0m\u001b[1;34m'y'\u001b[0m\u001b[1;33m,\u001b[0m \u001b[0malpha\u001b[0m\u001b[1;33m=\u001b[0m\u001b[1;36m0.4\u001b[0m\u001b[1;33m)\u001b[0m\u001b[1;33m\u001b[0m\u001b[1;33m\u001b[0m\u001b[0m\n\u001b[0;32m     15\u001b[0m \u001b[0mplt\u001b[0m\u001b[1;33m.\u001b[0m\u001b[0mshow\u001b[0m\u001b[1;33m(\u001b[0m\u001b[1;33m)\u001b[0m\u001b[1;33m\u001b[0m\u001b[1;33m\u001b[0m\u001b[0m\n",
      "\u001b[1;32mC:\\ProgramData\\Anaconda3\\lib\\site-packages\\matplotlib\\pyplot.py\u001b[0m in \u001b[0;36mxticks\u001b[1;34m(ticks, labels, **kwargs)\u001b[0m\n\u001b[0;32m   1812\u001b[0m         \u001b[0mlabels\u001b[0m \u001b[1;33m=\u001b[0m \u001b[0max\u001b[0m\u001b[1;33m.\u001b[0m\u001b[0mget_xticklabels\u001b[0m\u001b[1;33m(\u001b[0m\u001b[1;33m)\u001b[0m\u001b[1;33m\u001b[0m\u001b[1;33m\u001b[0m\u001b[0m\n\u001b[0;32m   1813\u001b[0m     \u001b[1;32melse\u001b[0m\u001b[1;33m:\u001b[0m\u001b[1;33m\u001b[0m\u001b[1;33m\u001b[0m\u001b[0m\n\u001b[1;32m-> 1814\u001b[1;33m         \u001b[0mlabels\u001b[0m \u001b[1;33m=\u001b[0m \u001b[0max\u001b[0m\u001b[1;33m.\u001b[0m\u001b[0mset_xticklabels\u001b[0m\u001b[1;33m(\u001b[0m\u001b[0mlabels\u001b[0m\u001b[1;33m,\u001b[0m \u001b[1;33m**\u001b[0m\u001b[0mkwargs\u001b[0m\u001b[1;33m)\u001b[0m\u001b[1;33m\u001b[0m\u001b[1;33m\u001b[0m\u001b[0m\n\u001b[0m\u001b[0;32m   1815\u001b[0m     \u001b[1;32mfor\u001b[0m \u001b[0ml\u001b[0m \u001b[1;32min\u001b[0m \u001b[0mlabels\u001b[0m\u001b[1;33m:\u001b[0m\u001b[1;33m\u001b[0m\u001b[1;33m\u001b[0m\u001b[0m\n\u001b[0;32m   1816\u001b[0m         \u001b[0ml\u001b[0m\u001b[1;33m.\u001b[0m\u001b[0mupdate\u001b[0m\u001b[1;33m(\u001b[0m\u001b[0mkwargs\u001b[0m\u001b[1;33m)\u001b[0m\u001b[1;33m\u001b[0m\u001b[1;33m\u001b[0m\u001b[0m\n",
      "\u001b[1;32mC:\\ProgramData\\Anaconda3\\lib\\site-packages\\matplotlib\\axes\\_base.py\u001b[0m in \u001b[0;36mwrapper\u001b[1;34m(self, *args, **kwargs)\u001b[0m\n\u001b[0;32m     71\u001b[0m \u001b[1;33m\u001b[0m\u001b[0m\n\u001b[0;32m     72\u001b[0m         \u001b[1;32mdef\u001b[0m \u001b[0mwrapper\u001b[0m\u001b[1;33m(\u001b[0m\u001b[0mself\u001b[0m\u001b[1;33m,\u001b[0m \u001b[1;33m*\u001b[0m\u001b[0margs\u001b[0m\u001b[1;33m,\u001b[0m \u001b[1;33m**\u001b[0m\u001b[0mkwargs\u001b[0m\u001b[1;33m)\u001b[0m\u001b[1;33m:\u001b[0m\u001b[1;33m\u001b[0m\u001b[1;33m\u001b[0m\u001b[0m\n\u001b[1;32m---> 73\u001b[1;33m             \u001b[1;32mreturn\u001b[0m \u001b[0mget_method\u001b[0m\u001b[1;33m(\u001b[0m\u001b[0mself\u001b[0m\u001b[1;33m)\u001b[0m\u001b[1;33m(\u001b[0m\u001b[1;33m*\u001b[0m\u001b[0margs\u001b[0m\u001b[1;33m,\u001b[0m \u001b[1;33m**\u001b[0m\u001b[0mkwargs\u001b[0m\u001b[1;33m)\u001b[0m\u001b[1;33m\u001b[0m\u001b[1;33m\u001b[0m\u001b[0m\n\u001b[0m\u001b[0;32m     74\u001b[0m \u001b[1;33m\u001b[0m\u001b[0m\n\u001b[0;32m     75\u001b[0m         \u001b[0mwrapper\u001b[0m\u001b[1;33m.\u001b[0m\u001b[0m__module__\u001b[0m \u001b[1;33m=\u001b[0m \u001b[0mowner\u001b[0m\u001b[1;33m.\u001b[0m\u001b[0m__module__\u001b[0m\u001b[1;33m\u001b[0m\u001b[1;33m\u001b[0m\u001b[0m\n",
      "\u001b[1;32mC:\\ProgramData\\Anaconda3\\lib\\site-packages\\matplotlib\\_api\\deprecation.py\u001b[0m in \u001b[0;36mwrapper\u001b[1;34m(*args, **kwargs)\u001b[0m\n\u001b[0;32m    469\u001b[0m                 \u001b[1;34m\"parameter will become keyword-only %(removal)s.\"\u001b[0m\u001b[1;33m,\u001b[0m\u001b[1;33m\u001b[0m\u001b[1;33m\u001b[0m\u001b[0m\n\u001b[0;32m    470\u001b[0m                 name=name, obj_type=f\"parameter of {func.__name__}()\")\n\u001b[1;32m--> 471\u001b[1;33m         \u001b[1;32mreturn\u001b[0m \u001b[0mfunc\u001b[0m\u001b[1;33m(\u001b[0m\u001b[1;33m*\u001b[0m\u001b[0margs\u001b[0m\u001b[1;33m,\u001b[0m \u001b[1;33m**\u001b[0m\u001b[0mkwargs\u001b[0m\u001b[1;33m)\u001b[0m\u001b[1;33m\u001b[0m\u001b[1;33m\u001b[0m\u001b[0m\n\u001b[0m\u001b[0;32m    472\u001b[0m \u001b[1;33m\u001b[0m\u001b[0m\n\u001b[0;32m    473\u001b[0m     \u001b[1;32mreturn\u001b[0m \u001b[0mwrapper\u001b[0m\u001b[1;33m\u001b[0m\u001b[1;33m\u001b[0m\u001b[0m\n",
      "\u001b[1;32mC:\\ProgramData\\Anaconda3\\lib\\site-packages\\matplotlib\\axis.py\u001b[0m in \u001b[0;36m_set_ticklabels\u001b[1;34m(self, labels, fontdict, minor, **kwargs)\u001b[0m\n\u001b[0;32m   1793\u001b[0m         \u001b[1;32mif\u001b[0m \u001b[0mfontdict\u001b[0m \u001b[1;32mis\u001b[0m \u001b[1;32mnot\u001b[0m \u001b[1;32mNone\u001b[0m\u001b[1;33m:\u001b[0m\u001b[1;33m\u001b[0m\u001b[1;33m\u001b[0m\u001b[0m\n\u001b[0;32m   1794\u001b[0m             \u001b[0mkwargs\u001b[0m\u001b[1;33m.\u001b[0m\u001b[0mupdate\u001b[0m\u001b[1;33m(\u001b[0m\u001b[0mfontdict\u001b[0m\u001b[1;33m)\u001b[0m\u001b[1;33m\u001b[0m\u001b[1;33m\u001b[0m\u001b[0m\n\u001b[1;32m-> 1795\u001b[1;33m         \u001b[1;32mreturn\u001b[0m \u001b[0mself\u001b[0m\u001b[1;33m.\u001b[0m\u001b[0mset_ticklabels\u001b[0m\u001b[1;33m(\u001b[0m\u001b[0mlabels\u001b[0m\u001b[1;33m,\u001b[0m \u001b[0mminor\u001b[0m\u001b[1;33m=\u001b[0m\u001b[0mminor\u001b[0m\u001b[1;33m,\u001b[0m \u001b[1;33m**\u001b[0m\u001b[0mkwargs\u001b[0m\u001b[1;33m)\u001b[0m\u001b[1;33m\u001b[0m\u001b[1;33m\u001b[0m\u001b[0m\n\u001b[0m\u001b[0;32m   1796\u001b[0m \u001b[1;33m\u001b[0m\u001b[0m\n\u001b[0;32m   1797\u001b[0m     \u001b[1;32mdef\u001b[0m \u001b[0mset_ticks\u001b[0m\u001b[1;33m(\u001b[0m\u001b[0mself\u001b[0m\u001b[1;33m,\u001b[0m \u001b[0mticks\u001b[0m\u001b[1;33m,\u001b[0m \u001b[1;33m*\u001b[0m\u001b[1;33m,\u001b[0m \u001b[0mminor\u001b[0m\u001b[1;33m=\u001b[0m\u001b[1;32mFalse\u001b[0m\u001b[1;33m)\u001b[0m\u001b[1;33m:\u001b[0m\u001b[1;33m\u001b[0m\u001b[1;33m\u001b[0m\u001b[0m\n",
      "\u001b[1;32mC:\\ProgramData\\Anaconda3\\lib\\site-packages\\matplotlib\\axis.py\u001b[0m in \u001b[0;36mset_ticklabels\u001b[1;34m(self, ticklabels, minor, **kwargs)\u001b[0m\n\u001b[0;32m   1714\u001b[0m             \u001b[1;31m# remove all tick labels, so only error for > 0 ticklabels\u001b[0m\u001b[1;33m\u001b[0m\u001b[1;33m\u001b[0m\u001b[0m\n\u001b[0;32m   1715\u001b[0m             \u001b[1;32mif\u001b[0m \u001b[0mlen\u001b[0m\u001b[1;33m(\u001b[0m\u001b[0mlocator\u001b[0m\u001b[1;33m.\u001b[0m\u001b[0mlocs\u001b[0m\u001b[1;33m)\u001b[0m \u001b[1;33m!=\u001b[0m \u001b[0mlen\u001b[0m\u001b[1;33m(\u001b[0m\u001b[0mticklabels\u001b[0m\u001b[1;33m)\u001b[0m \u001b[1;32mand\u001b[0m \u001b[0mlen\u001b[0m\u001b[1;33m(\u001b[0m\u001b[0mticklabels\u001b[0m\u001b[1;33m)\u001b[0m \u001b[1;33m!=\u001b[0m \u001b[1;36m0\u001b[0m\u001b[1;33m:\u001b[0m\u001b[1;33m\u001b[0m\u001b[1;33m\u001b[0m\u001b[0m\n\u001b[1;32m-> 1716\u001b[1;33m                 raise ValueError(\n\u001b[0m\u001b[0;32m   1717\u001b[0m                     \u001b[1;34m\"The number of FixedLocator locations\"\u001b[0m\u001b[1;33m\u001b[0m\u001b[1;33m\u001b[0m\u001b[0m\n\u001b[0;32m   1718\u001b[0m                     \u001b[1;34mf\" ({len(locator.locs)}), usually from a call to\"\u001b[0m\u001b[1;33m\u001b[0m\u001b[1;33m\u001b[0m\u001b[0m\n",
      "\u001b[1;31mValueError\u001b[0m: The number of FixedLocator locations (2), usually from a call to set_ticks, does not match the number of ticklabels (4)."
     ]
    },
    {
     "data": {
      "image/png": "[encoded data removed]",
      "text/plain": [
       "<Figure size 432x288 with 1 Axes>"
      ]
     },
     "metadata": {
      "needs_background": "light"
     },
     "output_type": "display_data"
    }
   ],
   "source": [
    "\n",
    "labels=['Type 0', 'Type 2', 'Type 1', 'Type 3']\n",
    "order=df['cp'].value_counts().index\n",
    "ax = sns.countplot(x = 'cp',data = df, order = order, alpha = 0.85)\n",
    "plt.title('histogram of chest')\n",
    "\n",
    "for rect in ax.patches:\n",
    "    ax.text (rect.get_x()+rect.get_width()/2, \n",
    "             rect.get_height()+4.25,rect.get_height(), \n",
    "             horizontalalignment='center', fontsize=10, \n",
    "             bbox=dict(facecolor='none',linewidth=0.25, boxstyle='round'))\n",
    "plt.xlabel('Pain Type',fontsize=11, fontfamily='sans-serif')\n",
    "plt.ylabel('total',fontsize=11, fontfamily='sans-serif')\n",
    "plt.xticks([0, 1], labels)\n",
    "plt.grid(axis='y', alpha=0.4)\n",
    "plt.show()\n",
    "print('*' * 25)\n",
    "print('\\033[1m'+'.: Sex (Gender) Total :.'+'\\033[0m')\n",
    "print('*' * 25)\n",
    "df.sex.value_counts(dropna=False)"
   ]
  },
  {
   "cell_type": "code",
   "execution_count": null,
   "id": "d4b0dd66",
   "metadata": {},
   "outputs": [],
   "source": [
    "#Chest pain type 0 have the highest number compared to other types of chest pain."
   ]
  },
  {
   "cell_type": "code",
   "execution_count": 71,
   "id": "c0cb1e9b",
   "metadata": {},
   "outputs": [
    {
     "data": {
      "image/png": "[encoded data removed]",
      "text/plain": [
       "<Figure size 432x288 with 1 Axes>"
      ]
     },
     "metadata": {
      "needs_background": "light"
     },
     "output_type": "display_data"
    }
   ],
   "source": [
    "labels=['< 120 mg/dl', '> 120 mg/dl']\n",
    "order=df['fbs'].value_counts().index\n",
    "plt.suptitle('Fasting Blood Sugar Distribution', fontweight='heavy', \n",
    "             fontsize=16, fontfamily='sans-serif')\n",
    "plt.title('Histogram', fontweight='bold', fontsize=14, fontfamily='sans-serif')\n",
    "ax = sns.countplot(x='fbs', data=df, order=order, alpha=0.85)\n",
    "for rect in ax.patches:\n",
    "    ax.text (rect.get_x()+rect.get_width()/2, \n",
    "             rect.get_height()+4.25,rect.get_height(), \n",
    "             horizontalalignment='center', fontsize=10,\n",
    "             bbox=dict(facecolor='none', linewidth=0.25,\n",
    "                       boxstyle='round'))\n",
    "plt.xlabel('Fasting Blood Sugar', fontweight='bold', fontsize=11, \n",
    "           fontfamily='sans-serif')\n",
    "plt.ylabel('Total', fontweight='bold', fontsize=11, fontfamily='sans-serif')\n",
    "plt.xticks([0, 1], labels)\n",
    "plt.grid(axis='y', alpha=0.4)\n",
    "plt.show()"
   ]
  },
  {
   "cell_type": "code",
   "execution_count": null,
   "id": "e057f844",
   "metadata": {},
   "outputs": [],
   "source": [
    "#It can be seen that the number of patients with fasting blood sugar less than 120 mg/dl have the highest numbers."
   ]
  },
  {
   "cell_type": "code",
   "execution_count": 73,
   "id": "1852b2b4",
   "metadata": {},
   "outputs": [
    {
     "data": {
      "image/png": "[encoded data removed]",
      "text/plain": [
       "<Figure size 432x288 with 1 Axes>"
      ]
     },
     "metadata": {
      "needs_background": "light"
     },
     "output_type": "display_data"
    }
   ],
   "source": [
    "labels=['1', '0', '2']\n",
    "order=df['restecg'].value_counts().index\n",
    "plt.suptitle('Resting Electrocardiographic Distribution', fontweight='heavy', \n",
    "             fontsize=16, fontfamily='sans-serif')\n",
    "plt.title('Histogram', fontweight='bold', fontsize=14, fontfamily='sans-serif')\n",
    "ax = sns.countplot(x='restecg', data=df,  order=order, alpha=0.85)\n",
    "for rect in ax.patches:\n",
    "    ax.text (rect.get_x()+rect.get_width()/2, \n",
    "             rect.get_height()+4.25,rect.get_height(), \n",
    "             horizontalalignment='center', fontsize=10,\n",
    "             bbox=dict(facecolor='none',  linewidth=0.25,\n",
    "                       boxstyle='round'))\n",
    "    plt.xlabel('Resting Electrocardiographic', fontweight='bold', fontsize=11, \n",
    "           fontfamily='sans-serif')\n",
    "plt.ylabel('Total', fontweight='bold', fontsize=11, fontfamily='sans-serif')\n",
    "plt.grid(axis='y', alpha=0.4)"
   ]
  },
  {
   "cell_type": "code",
   "execution_count": null,
   "id": "02c9941d",
   "metadata": {},
   "outputs": [],
   "source": [
    "# Resting electrocardiographic with results 1 and 0 has a higher distribution than result 2.\n",
    "#In addition, result 1 has the highest distribution compared to the other results."
   ]
  },
  {
   "cell_type": "code",
   "execution_count": 74,
   "id": "342d148a",
   "metadata": {},
   "outputs": [
    {
     "data": {
      "image/png": "[encoded data removed]",
      "text/plain": [
       "<Figure size 432x288 with 1 Axes>"
      ]
     },
     "metadata": {
      "needs_background": "light"
     },
     "output_type": "display_data"
    }
   ],
   "source": [
    "labels=['False', 'True']\n",
    "order=df['exang'].value_counts().index\n",
    "plt.suptitle('Exercise Induced Angina Distribution', fontweight='heavy', \n",
    "             fontsize=16, fontfamily='sans-serif')\n",
    "plt.title('Pie Chart', fontweight='bold', fontsize=14, fontfamily='sans-serif')\n",
    "plt.title('Histogram', fontweight='bold', fontsize=14, fontfamily='sans-serif')\n",
    "ax = sns.countplot(x='exang', data=df, order=order, alpha=0.85)\n",
    "for rect in ax.patches:\n",
    "    ax.text (rect.get_x()+rect.get_width()/2, \n",
    "             rect.get_height()+4.25,rect.get_height(), \n",
    "             horizontalalignment='center', fontsize=10,\n",
    "             bbox=dict(facecolor='none', linewidth=0.25,\n",
    "                       boxstyle='round'))\n",
    "plt.xlabel('Exercise Induced Angina', fontweight='bold', fontsize=11, \n",
    "           fontfamily='sans-serif')\n",
    "plt.ylabel('Total', fontweight='bold', fontsize=11, fontfamily='sans-serif')\n",
    "plt.xticks([0, 1], labels)\n",
    "plt.grid(axis='y', alpha=0.4)"
   ]
  },
  {
   "cell_type": "code",
   "execution_count": null,
   "id": "e1ef9fc8",
   "metadata": {},
   "outputs": [],
   "source": [
    "#Patients with no exercise induced angina are the highest compared to patients with exercise induced angina."
   ]
  },
  {
   "cell_type": "code",
   "execution_count": null,
   "id": "c7f146e4",
   "metadata": {},
   "outputs": [],
   "source": []
  },
  {
   "cell_type": "code",
   "execution_count": null,
   "id": "4afcf563",
   "metadata": {},
   "outputs": [],
   "source": [
    "#slope (Slope of the Peak Exercise)"
   ]
  },
  {
   "cell_type": "code",
   "execution_count": 78,
   "id": "17575b08",
   "metadata": {},
   "outputs": [
    {
     "data": {
      "image/png": "[encoded data removed]",
      "text/plain": [
       "<Figure size 432x288 with 1 Axes>"
      ]
     },
     "metadata": {
      "needs_background": "light"
     },
     "output_type": "display_data"
    }
   ],
   "source": [
    "labels=['2', '1', '0']\n",
    "order=df['slope'].value_counts().index\n",
    "plt.suptitle('Slope of the Peak Exercise Distribution', fontweight='heavy', \n",
    "             fontsize=16, fontfamily='sans-serif')\n",
    "plt.title('Pie Chart', fontweight='bold', fontsize=14,\n",
    "          fontfamily='sans-serif')\n",
    "\n",
    "plt.title('Histogram', fontweight='bold', fontsize=14, fontfamily='sans-serif')\n",
    "ax = sns.countplot(x='slope', data=df, order=order, alpha=0.85)\n",
    "for rect in ax.patches:\n",
    "    ax.text (rect.get_x()+rect.get_width()/2, \n",
    "             rect.get_height()+4.25,rect.get_height(), \n",
    "             horizontalalignment='center', fontsize=10,\n",
    "             bbox=dict(facecolor='none', linewidth=0.25,\n",
    "                       boxstyle='round'))\n",
    "plt.xlabel('Slope', fontweight='bold', fontsize=11, fontfamily='sans-serif')\n",
    "plt.ylabel('Total', fontweight='bold', fontsize=11, fontfamily='sans-serif')\n",
    "plt.grid(axis='y', alpha=0.4)"
   ]
  },
  {
   "cell_type": "code",
   "execution_count": null,
   "id": "2ceb71f0",
   "metadata": {},
   "outputs": [],
   "source": [
    "# The distribution of slope 1 and 2 are almost the same."
   ]
  },
  {
   "cell_type": "code",
   "execution_count": null,
   "id": "97429f5b",
   "metadata": {},
   "outputs": [],
   "source": [
    "# Moreover, slope 2 has the highest distribution compared to others."
   ]
  },
  {
   "cell_type": "code",
   "execution_count": null,
   "id": "3e4eadfe",
   "metadata": {},
   "outputs": [],
   "source": []
  },
  {
   "cell_type": "code",
   "execution_count": null,
   "id": "ea238583",
   "metadata": {},
   "outputs": [],
   "source": [
    "#ca (Number of Major Vessels)"
   ]
  },
  {
   "cell_type": "code",
   "execution_count": 79,
   "id": "b1a0ed02",
   "metadata": {},
   "outputs": [
    {
     "data": {
      "image/png": "[encoded data removed]",
      "text/plain": [
       "<Figure size 432x288 with 1 Axes>"
      ]
     },
     "metadata": {
      "needs_background": "light"
     },
     "output_type": "display_data"
    }
   ],
   "source": [
    "labels=['0', '1', '2', '3', '4']\n",
    "order=df['ca'].value_counts().index\n",
    "plt.suptitle('Number of Major Vessels Distribution', fontweight='heavy', \n",
    "             fontsize=16, fontfamily='sans-serif')\n",
    "plt.title('Pie Chart', fontweight='bold', fontsize=14, fontfamily='sans-serif')\n",
    "plt.title('Histogram', fontweight='bold', fontsize=14, fontfamily='sans-serif')\n",
    "ax = sns.countplot(x='ca', data=df, order=order, alpha=0.85)\n",
    "for rect in ax.patches:\n",
    "    ax.text (rect.get_x()+rect.get_width()/2, \n",
    "             rect.get_height()+4.25,rect.get_height(), \n",
    "             horizontalalignment='center', fontsize=10,\n",
    "             bbox=dict(facecolor='none',  linewidth=0.25,\n",
    "                       boxstyle='round'))\n",
    "    plt.xlabel('Number of Major Vessels', fontweight='bold', fontsize=11, \n",
    "           fontfamily='sans-serif',)\n",
    "plt.ylabel('Total', fontweight='bold', fontsize=11, fontfamily='sans-serif')\n",
    "plt.grid(axis='y', alpha=0.4)"
   ]
  },
  {
   "cell_type": "code",
   "execution_count": null,
   "id": "c77ea052",
   "metadata": {},
   "outputs": [],
   "source": [
    "#People with 0 major vessel has the highest distribution compared to others."
   ]
  },
  {
   "cell_type": "code",
   "execution_count": null,
   "id": "9cec8acf",
   "metadata": {},
   "outputs": [],
   "source": []
  },
  {
   "cell_type": "code",
   "execution_count": null,
   "id": "5b3718cb",
   "metadata": {},
   "outputs": [],
   "source": [
    "# thal"
   ]
  },
  {
   "cell_type": "code",
   "execution_count": 80,
   "id": "56f83f22",
   "metadata": {},
   "outputs": [
    {
     "data": {
      "image/png": "[encoded data removed]",
      "text/plain": [
       "<Figure size 432x288 with 1 Axes>"
      ]
     },
     "metadata": {
      "needs_background": "light"
     },
     "output_type": "display_data"
    }
   ],
   "source": [
    "labels=['2', '3', '1', '0']\n",
    "order=df['thal'].value_counts().index\n",
    "plt.suptitle('\"thal\" Distribution', fontweight='heavy', fontsize=16, \n",
    "             fontfamily='sans-serif')\n",
    "plt.title('Pie Chart', fontweight='bold', fontsize=14, fontfamily='sans-serif')\n",
    "countplt = plt.subplot(1, 2, 2)\n",
    "plt.title('Histogram', fontweight='bold', fontsize=14, fontfamily='sans-serif')\n",
    "ax = sns.countplot(x='thal', data=df, order=order, alpha=0.85)\n",
    "for rect in ax.patches:\n",
    "    ax.text (rect.get_x()+rect.get_width()/2, \n",
    "             rect.get_height()+4.25,rect.get_height(), \n",
    "             horizontalalignment='center', fontsize=10,\n",
    "             bbox=dict(facecolor='none',  linewidth=0.25,\n",
    "                       boxstyle='round'))\n",
    "    plt.xlabel('Number of \"thal\"', fontweight='bold', fontsize=11, \n",
    "           fontfamily='sans-serif')\n",
    "plt.ylabel('Total', fontweight='bold', fontsize=11, fontfamily='sans-serif')\n",
    "plt.grid(axis='y', alpha=0.4)"
   ]
  },
  {
   "cell_type": "code",
   "execution_count": null,
   "id": "d2389597",
   "metadata": {},
   "outputs": [],
   "source": [
    "#Patients with 2 \"thal\" has the highest distribution compared to others."
   ]
  },
  {
   "cell_type": "code",
   "execution_count": 162,
   "id": "011a37d0",
   "metadata": {},
   "outputs": [
    {
     "data": {
      "text/html": [
       "<div>\n",
       "<style scoped>\n",
       "    .dataframe tbody tr th:only-of-type {\n",
       "        vertical-align: middle;\n",
       "    }\n",
       "\n",
       "    .dataframe tbody tr th {\n",
       "        vertical-align: top;\n",
       "    }\n",
       "\n",
       "    .dataframe thead th {\n",
       "        text-align: right;\n",
       "    }\n",
       "</style>\n",
       "<table border=\"1\" class=\"dataframe\">\n",
       "  <thead>\n",
       "    <tr style=\"text-align: right;\">\n",
       "      <th></th>\n",
       "      <th>age</th>\n",
       "      <th>sex</th>\n",
       "      <th>trestbps</th>\n",
       "      <th>chol</th>\n",
       "      <th>fbs</th>\n",
       "      <th>restecg</th>\n",
       "      <th>thalach</th>\n",
       "      <th>exang</th>\n",
       "      <th>oldpeak</th>\n",
       "      <th>ca</th>\n",
       "      <th>...</th>\n",
       "      <th>cp_1</th>\n",
       "      <th>cp_2</th>\n",
       "      <th>cp_3</th>\n",
       "      <th>thal_0</th>\n",
       "      <th>thal_1</th>\n",
       "      <th>thal_2</th>\n",
       "      <th>thal_3</th>\n",
       "      <th>slope_0</th>\n",
       "      <th>slope_1</th>\n",
       "      <th>slope_2</th>\n",
       "    </tr>\n",
       "  </thead>\n",
       "  <tbody>\n",
       "    <tr>\n",
       "      <th>count</th>\n",
       "      <td>303.000000</td>\n",
       "      <td>303.000000</td>\n",
       "      <td>303.000000</td>\n",
       "      <td>303.000000</td>\n",
       "      <td>303.000000</td>\n",
       "      <td>303.000000</td>\n",
       "      <td>303.000000</td>\n",
       "      <td>303.000000</td>\n",
       "      <td>303.000000</td>\n",
       "      <td>303.000000</td>\n",
       "      <td>...</td>\n",
       "      <td>303.000000</td>\n",
       "      <td>303.000000</td>\n",
       "      <td>303.000000</td>\n",
       "      <td>303.000000</td>\n",
       "      <td>303.000000</td>\n",
       "      <td>303.000000</td>\n",
       "      <td>303.000000</td>\n",
       "      <td>303.000000</td>\n",
       "      <td>303.000000</td>\n",
       "      <td>303.000000</td>\n",
       "    </tr>\n",
       "    <tr>\n",
       "      <th>mean</th>\n",
       "      <td>54.366337</td>\n",
       "      <td>0.683168</td>\n",
       "      <td>131.280528</td>\n",
       "      <td>245.134488</td>\n",
       "      <td>0.148515</td>\n",
       "      <td>0.528053</td>\n",
       "      <td>149.692244</td>\n",
       "      <td>0.326733</td>\n",
       "      <td>1.024422</td>\n",
       "      <td>0.729373</td>\n",
       "      <td>...</td>\n",
       "      <td>0.165017</td>\n",
       "      <td>0.287129</td>\n",
       "      <td>0.075908</td>\n",
       "      <td>0.006601</td>\n",
       "      <td>0.059406</td>\n",
       "      <td>0.547855</td>\n",
       "      <td>0.386139</td>\n",
       "      <td>0.069307</td>\n",
       "      <td>0.462046</td>\n",
       "      <td>0.468647</td>\n",
       "    </tr>\n",
       "    <tr>\n",
       "      <th>std</th>\n",
       "      <td>9.082101</td>\n",
       "      <td>0.466011</td>\n",
       "      <td>16.582241</td>\n",
       "      <td>47.552910</td>\n",
       "      <td>0.356198</td>\n",
       "      <td>0.525860</td>\n",
       "      <td>22.762004</td>\n",
       "      <td>0.469794</td>\n",
       "      <td>1.110127</td>\n",
       "      <td>1.022606</td>\n",
       "      <td>...</td>\n",
       "      <td>0.371809</td>\n",
       "      <td>0.453171</td>\n",
       "      <td>0.265288</td>\n",
       "      <td>0.081110</td>\n",
       "      <td>0.236774</td>\n",
       "      <td>0.498528</td>\n",
       "      <td>0.487668</td>\n",
       "      <td>0.254395</td>\n",
       "      <td>0.499382</td>\n",
       "      <td>0.499842</td>\n",
       "    </tr>\n",
       "    <tr>\n",
       "      <th>min</th>\n",
       "      <td>29.000000</td>\n",
       "      <td>0.000000</td>\n",
       "      <td>94.000000</td>\n",
       "      <td>126.000000</td>\n",
       "      <td>0.000000</td>\n",
       "      <td>0.000000</td>\n",
       "      <td>84.750000</td>\n",
       "      <td>0.000000</td>\n",
       "      <td>0.000000</td>\n",
       "      <td>0.000000</td>\n",
       "      <td>...</td>\n",
       "      <td>0.000000</td>\n",
       "      <td>0.000000</td>\n",
       "      <td>0.000000</td>\n",
       "      <td>0.000000</td>\n",
       "      <td>0.000000</td>\n",
       "      <td>0.000000</td>\n",
       "      <td>0.000000</td>\n",
       "      <td>0.000000</td>\n",
       "      <td>0.000000</td>\n",
       "      <td>0.000000</td>\n",
       "    </tr>\n",
       "    <tr>\n",
       "      <th>25%</th>\n",
       "      <td>47.500000</td>\n",
       "      <td>0.000000</td>\n",
       "      <td>120.000000</td>\n",
       "      <td>211.000000</td>\n",
       "      <td>0.000000</td>\n",
       "      <td>0.000000</td>\n",
       "      <td>133.500000</td>\n",
       "      <td>0.000000</td>\n",
       "      <td>0.000000</td>\n",
       "      <td>0.000000</td>\n",
       "      <td>...</td>\n",
       "      <td>0.000000</td>\n",
       "      <td>0.000000</td>\n",
       "      <td>0.000000</td>\n",
       "      <td>0.000000</td>\n",
       "      <td>0.000000</td>\n",
       "      <td>0.000000</td>\n",
       "      <td>0.000000</td>\n",
       "      <td>0.000000</td>\n",
       "      <td>0.000000</td>\n",
       "      <td>0.000000</td>\n",
       "    </tr>\n",
       "    <tr>\n",
       "      <th>50%</th>\n",
       "      <td>55.000000</td>\n",
       "      <td>1.000000</td>\n",
       "      <td>130.000000</td>\n",
       "      <td>240.000000</td>\n",
       "      <td>0.000000</td>\n",
       "      <td>1.000000</td>\n",
       "      <td>153.000000</td>\n",
       "      <td>0.000000</td>\n",
       "      <td>0.800000</td>\n",
       "      <td>0.000000</td>\n",
       "      <td>...</td>\n",
       "      <td>0.000000</td>\n",
       "      <td>0.000000</td>\n",
       "      <td>0.000000</td>\n",
       "      <td>0.000000</td>\n",
       "      <td>0.000000</td>\n",
       "      <td>1.000000</td>\n",
       "      <td>0.000000</td>\n",
       "      <td>0.000000</td>\n",
       "      <td>0.000000</td>\n",
       "      <td>0.000000</td>\n",
       "    </tr>\n",
       "    <tr>\n",
       "      <th>75%</th>\n",
       "      <td>61.000000</td>\n",
       "      <td>1.000000</td>\n",
       "      <td>140.000000</td>\n",
       "      <td>274.500000</td>\n",
       "      <td>0.000000</td>\n",
       "      <td>1.000000</td>\n",
       "      <td>166.000000</td>\n",
       "      <td>1.000000</td>\n",
       "      <td>1.600000</td>\n",
       "      <td>1.000000</td>\n",
       "      <td>...</td>\n",
       "      <td>0.000000</td>\n",
       "      <td>1.000000</td>\n",
       "      <td>0.000000</td>\n",
       "      <td>0.000000</td>\n",
       "      <td>0.000000</td>\n",
       "      <td>1.000000</td>\n",
       "      <td>1.000000</td>\n",
       "      <td>0.000000</td>\n",
       "      <td>1.000000</td>\n",
       "      <td>1.000000</td>\n",
       "    </tr>\n",
       "    <tr>\n",
       "      <th>max</th>\n",
       "      <td>77.000000</td>\n",
       "      <td>1.000000</td>\n",
       "      <td>170.000000</td>\n",
       "      <td>369.750000</td>\n",
       "      <td>1.000000</td>\n",
       "      <td>2.000000</td>\n",
       "      <td>202.000000</td>\n",
       "      <td>1.000000</td>\n",
       "      <td>4.000000</td>\n",
       "      <td>4.000000</td>\n",
       "      <td>...</td>\n",
       "      <td>1.000000</td>\n",
       "      <td>1.000000</td>\n",
       "      <td>1.000000</td>\n",
       "      <td>1.000000</td>\n",
       "      <td>1.000000</td>\n",
       "      <td>1.000000</td>\n",
       "      <td>1.000000</td>\n",
       "      <td>1.000000</td>\n",
       "      <td>1.000000</td>\n",
       "      <td>1.000000</td>\n",
       "    </tr>\n",
       "  </tbody>\n",
       "</table>\n",
       "<p>8 rows × 22 columns</p>\n",
       "</div>"
      ],
      "text/plain": [
       "              age         sex    trestbps        chol         fbs     restecg  \\\n",
       "count  303.000000  303.000000  303.000000  303.000000  303.000000  303.000000   \n",
       "mean    54.366337    0.683168  131.280528  245.134488    0.148515    0.528053   \n",
       "std      9.082101    0.466011   16.582241   47.552910    0.356198    0.525860   \n",
       "min     29.000000    0.000000   94.000000  126.000000    0.000000    0.000000   \n",
       "25%     47.500000    0.000000  120.000000  211.000000    0.000000    0.000000   \n",
       "50%     55.000000    1.000000  130.000000  240.000000    0.000000    1.000000   \n",
       "75%     61.000000    1.000000  140.000000  274.500000    0.000000    1.000000   \n",
       "max     77.000000    1.000000  170.000000  369.750000    1.000000    2.000000   \n",
       "\n",
       "          thalach       exang     oldpeak          ca  ...        cp_1  \\\n",
       "count  303.000000  303.000000  303.000000  303.000000  ...  303.000000   \n",
       "mean   149.692244    0.326733    1.024422    0.729373  ...    0.165017   \n",
       "std     22.762004    0.469794    1.110127    1.022606  ...    0.371809   \n",
       "min     84.750000    0.000000    0.000000    0.000000  ...    0.000000   \n",
       "25%    133.500000    0.000000    0.000000    0.000000  ...    0.000000   \n",
       "50%    153.000000    0.000000    0.800000    0.000000  ...    0.000000   \n",
       "75%    166.000000    1.000000    1.600000    1.000000  ...    0.000000   \n",
       "max    202.000000    1.000000    4.000000    4.000000  ...    1.000000   \n",
       "\n",
       "             cp_2        cp_3      thal_0      thal_1      thal_2      thal_3  \\\n",
       "count  303.000000  303.000000  303.000000  303.000000  303.000000  303.000000   \n",
       "mean     0.287129    0.075908    0.006601    0.059406    0.547855    0.386139   \n",
       "std      0.453171    0.265288    0.081110    0.236774    0.498528    0.487668   \n",
       "min      0.000000    0.000000    0.000000    0.000000    0.000000    0.000000   \n",
       "25%      0.000000    0.000000    0.000000    0.000000    0.000000    0.000000   \n",
       "50%      0.000000    0.000000    0.000000    0.000000    1.000000    0.000000   \n",
       "75%      1.000000    0.000000    0.000000    0.000000    1.000000    1.000000   \n",
       "max      1.000000    1.000000    1.000000    1.000000    1.000000    1.000000   \n",
       "\n",
       "          slope_0     slope_1     slope_2  \n",
       "count  303.000000  303.000000  303.000000  \n",
       "mean     0.069307    0.462046    0.468647  \n",
       "std      0.254395    0.499382    0.499842  \n",
       "min      0.000000    0.000000    0.000000  \n",
       "25%      0.000000    0.000000    0.000000  \n",
       "50%      0.000000    0.000000    0.000000  \n",
       "75%      0.000000    1.000000    1.000000  \n",
       "max      1.000000    1.000000    1.000000  \n",
       "\n",
       "[8 rows x 22 columns]"
      ]
     },
     "execution_count": 162,
     "metadata": {},
     "output_type": "execute_result"
    }
   ],
   "source": [
    "df.describe()"
   ]
  },
  {
   "cell_type": "code",
   "execution_count": null,
   "id": "f9644d1f",
   "metadata": {},
   "outputs": [],
   "source": [
    "#target (Heart Diseases Status)"
   ]
  },
  {
   "cell_type": "code",
   "execution_count": 81,
   "id": "b6db4d7e",
   "metadata": {},
   "outputs": [
    {
     "data": {
      "image/png": "[encoded data removed]",
      "text/plain": [
       "<Figure size 432x288 with 1 Axes>"
      ]
     },
     "metadata": {
      "needs_background": "light"
     },
     "output_type": "display_data"
    }
   ],
   "source": [
    "labels=['True', 'False']\n",
    "order=df['target'].value_counts().index\n",
    "plt.suptitle('Heart Diseases Distribution', fontweight='heavy', \n",
    "             fontsize=16, fontfamily='sans-serif')\n",
    "plt.title('Pie Chart', fontweight='bold', fontsize=14, fontfamily='sans-serif')\n",
    "plt.title('Histogram', fontweight='bold', fontsize=14, fontfamily='sans-serif')\n",
    "ax = sns.countplot(x='target', data=df,  order=order, alpha=0.85)\n",
    "for rect in ax.patches:\n",
    "    ax.text (rect.get_x()+rect.get_width()/2, \n",
    "             rect.get_height()+4.25,rect.get_height(), \n",
    "             horizontalalignment='center', fontsize=10,\n",
    "             bbox=dict(facecolor='none', linewidth=0.25,\n",
    "                       boxstyle='round'))\n",
    "    plt.xlabel('Heart Disease Status', fontweight='bold', fontsize=11, \n",
    "           fontfamily='sans-serif')\n",
    "plt.ylabel('Total', fontweight='bold', fontsize=11, fontfamily='sans-serif')\n",
    "plt.xticks([0, 1], labels)\n",
    "plt.grid(axis='y', alpha=0.4)"
   ]
  },
  {
   "cell_type": "code",
   "execution_count": null,
   "id": "1cbf239e",
   "metadata": {},
   "outputs": [],
   "source": [
    "#The total number of patients that have heart diseases are higher than patients that have no heart diseases."
   ]
  },
  {
   "cell_type": "code",
   "execution_count": null,
   "id": "69e57fb7",
   "metadata": {},
   "outputs": [],
   "source": []
  },
  {
   "cell_type": "code",
   "execution_count": null,
   "id": "631d785f",
   "metadata": {},
   "outputs": [],
   "source": [
    "#Descriptive statistics"
   ]
  },
  {
   "cell_type": "code",
   "execution_count": 82,
   "id": "e808e90e",
   "metadata": {},
   "outputs": [
    {
     "data": {
      "text/html": [
       "<style type=\"text/css\">\n",
       "#T_a9ba3_row0_col0, #T_a9ba3_row1_col0, #T_a9ba3_row1_col1, #T_a9ba3_row1_col2, #T_a9ba3_row1_col3, #T_a9ba3_row1_col4, #T_a9ba3_row1_col6, #T_a9ba3_row1_col7, #T_a9ba3_row2_col0, #T_a9ba3_row2_col1, #T_a9ba3_row2_col3, #T_a9ba3_row2_col4, #T_a9ba3_row2_col7, #T_a9ba3_row3_col0, #T_a9ba3_row4_col0, #T_a9ba3_row5_col0, #T_a9ba3_row5_col1, #T_a9ba3_row5_col2, #T_a9ba3_row5_col3, #T_a9ba3_row5_col4, #T_a9ba3_row5_col5, #T_a9ba3_row5_col6, #T_a9ba3_row5_col7, #T_a9ba3_row6_col0, #T_a9ba3_row6_col1, #T_a9ba3_row6_col2, #T_a9ba3_row6_col3, #T_a9ba3_row6_col4, #T_a9ba3_row6_col6, #T_a9ba3_row6_col7, #T_a9ba3_row7_col0, #T_a9ba3_row8_col0, #T_a9ba3_row8_col1, #T_a9ba3_row8_col2, #T_a9ba3_row8_col3, #T_a9ba3_row8_col4, #T_a9ba3_row8_col5, #T_a9ba3_row8_col6, #T_a9ba3_row8_col7, #T_a9ba3_row9_col0, #T_a9ba3_row9_col1, #T_a9ba3_row9_col3, #T_a9ba3_row9_col4, #T_a9ba3_row9_col5, #T_a9ba3_row10_col0, #T_a9ba3_row10_col3, #T_a9ba3_row10_col7, #T_a9ba3_row11_col0, #T_a9ba3_row11_col1, #T_a9ba3_row11_col3, #T_a9ba3_row11_col4, #T_a9ba3_row11_col5, #T_a9ba3_row11_col6, #T_a9ba3_row12_col0, #T_a9ba3_row12_col3, #T_a9ba3_row12_col7, #T_a9ba3_row13_col0, #T_a9ba3_row13_col1, #T_a9ba3_row13_col2, #T_a9ba3_row13_col3, #T_a9ba3_row13_col4, #T_a9ba3_row13_col6, #T_a9ba3_row13_col7 {\n",
       "  background-color: #f7f4f9;\n",
       "  color: #000000;\n",
       "  font-family: Segoe UI;\n",
       "}\n",
       "#T_a9ba3_row0_col1, #T_a9ba3_row0_col6 {\n",
       "  background-color: #d9c3df;\n",
       "  color: #000000;\n",
       "  font-family: Segoe UI;\n",
       "}\n",
       "#T_a9ba3_row0_col2 {\n",
       "  background-color: #e0d3e8;\n",
       "  color: #000000;\n",
       "  font-family: Segoe UI;\n",
       "}\n",
       "#T_a9ba3_row0_col3, #T_a9ba3_row0_col5 {\n",
       "  background-color: #d7c0de;\n",
       "  color: #000000;\n",
       "  font-family: Segoe UI;\n",
       "}\n",
       "#T_a9ba3_row0_col4 {\n",
       "  background-color: #d8c1de;\n",
       "  color: #000000;\n",
       "  font-family: Segoe UI;\n",
       "}\n",
       "#T_a9ba3_row0_col7 {\n",
       "  background-color: #e6deee;\n",
       "  color: #000000;\n",
       "  font-family: Segoe UI;\n",
       "}\n",
       "#T_a9ba3_row1_col5, #T_a9ba3_row2_col5, #T_a9ba3_row2_col6, #T_a9ba3_row6_col5, #T_a9ba3_row9_col6, #T_a9ba3_row10_col1, #T_a9ba3_row10_col2, #T_a9ba3_row10_col4, #T_a9ba3_row10_col5, #T_a9ba3_row10_col6, #T_a9ba3_row11_col7, #T_a9ba3_row12_col2, #T_a9ba3_row13_col5 {\n",
       "  background-color: #f6f3f9;\n",
       "  color: #000000;\n",
       "  font-family: Segoe UI;\n",
       "}\n",
       "#T_a9ba3_row2_col2, #T_a9ba3_row9_col2, #T_a9ba3_row11_col2 {\n",
       "  background-color: #f5f2f8;\n",
       "  color: #000000;\n",
       "  font-family: Segoe UI;\n",
       "}\n",
       "#T_a9ba3_row3_col1 {\n",
       "  background-color: #e155a6;\n",
       "  color: #f1f1f1;\n",
       "  font-family: Segoe UI;\n",
       "}\n",
       "#T_a9ba3_row3_col2 {\n",
       "  background-color: #cda0cd;\n",
       "  color: #000000;\n",
       "  font-family: Segoe UI;\n",
       "}\n",
       "#T_a9ba3_row3_col3 {\n",
       "  background-color: #cf1358;\n",
       "  color: #f1f1f1;\n",
       "  font-family: Segoe UI;\n",
       "}\n",
       "#T_a9ba3_row3_col4 {\n",
       "  background-color: #e3449b;\n",
       "  color: #f1f1f1;\n",
       "  font-family: Segoe UI;\n",
       "}\n",
       "#T_a9ba3_row3_col5 {\n",
       "  background-color: #e251a3;\n",
       "  color: #f1f1f1;\n",
       "  font-family: Segoe UI;\n",
       "}\n",
       "#T_a9ba3_row3_col6 {\n",
       "  background-color: #e060ad;\n",
       "  color: #f1f1f1;\n",
       "  font-family: Segoe UI;\n",
       "}\n",
       "#T_a9ba3_row3_col7 {\n",
       "  background-color: #cb9bca;\n",
       "  color: #f1f1f1;\n",
       "  font-family: Segoe UI;\n",
       "}\n",
       "#T_a9ba3_row4_col1, #T_a9ba3_row4_col2, #T_a9ba3_row4_col3, #T_a9ba3_row4_col4, #T_a9ba3_row4_col5, #T_a9ba3_row4_col6, #T_a9ba3_row4_col7 {\n",
       "  background-color: #67001f;\n",
       "  color: #f1f1f1;\n",
       "  font-family: Segoe UI;\n",
       "}\n",
       "#T_a9ba3_row7_col1 {\n",
       "  background-color: #e6318f;\n",
       "  color: #f1f1f1;\n",
       "  font-family: Segoe UI;\n",
       "}\n",
       "#T_a9ba3_row7_col2 {\n",
       "  background-color: #d47cbb;\n",
       "  color: #f1f1f1;\n",
       "  font-family: Segoe UI;\n",
       "}\n",
       "#T_a9ba3_row7_col3 {\n",
       "  background-color: #e3469c;\n",
       "  color: #f1f1f1;\n",
       "  font-family: Segoe UI;\n",
       "}\n",
       "#T_a9ba3_row7_col4 {\n",
       "  background-color: #e62887;\n",
       "  color: #f1f1f1;\n",
       "  font-family: Segoe UI;\n",
       "}\n",
       "#T_a9ba3_row7_col5 {\n",
       "  background-color: #e42684;\n",
       "  color: #f1f1f1;\n",
       "  font-family: Segoe UI;\n",
       "}\n",
       "#T_a9ba3_row7_col6 {\n",
       "  background-color: #e63390;\n",
       "  color: #f1f1f1;\n",
       "  font-family: Segoe UI;\n",
       "}\n",
       "#T_a9ba3_row7_col7 {\n",
       "  background-color: #cb99ca;\n",
       "  color: #f1f1f1;\n",
       "  font-family: Segoe UI;\n",
       "}\n",
       "#T_a9ba3_row9_col7, #T_a9ba3_row12_col1, #T_a9ba3_row12_col4, #T_a9ba3_row12_col5, #T_a9ba3_row12_col6 {\n",
       "  background-color: #f6f3f8;\n",
       "  color: #000000;\n",
       "  font-family: Segoe UI;\n",
       "}\n",
       "</style>\n",
       "<table id=\"T_a9ba3_\">\n",
       "  <thead>\n",
       "    <tr>\n",
       "      <th class=\"blank level0\" >&nbsp;</th>\n",
       "      <th class=\"col_heading level0 col0\" >count</th>\n",
       "      <th class=\"col_heading level0 col1\" >mean</th>\n",
       "      <th class=\"col_heading level0 col2\" >std</th>\n",
       "      <th class=\"col_heading level0 col3\" >min</th>\n",
       "      <th class=\"col_heading level0 col4\" >25%</th>\n",
       "      <th class=\"col_heading level0 col5\" >50%</th>\n",
       "      <th class=\"col_heading level0 col6\" >75%</th>\n",
       "      <th class=\"col_heading level0 col7\" >max</th>\n",
       "    </tr>\n",
       "  </thead>\n",
       "  <tbody>\n",
       "    <tr>\n",
       "      <th id=\"T_a9ba3_level0_row0\" class=\"row_heading level0 row0\" >age</th>\n",
       "      <td id=\"T_a9ba3_row0_col0\" class=\"data row0 col0\" >303.000000</td>\n",
       "      <td id=\"T_a9ba3_row0_col1\" class=\"data row0 col1\" >54.366337</td>\n",
       "      <td id=\"T_a9ba3_row0_col2\" class=\"data row0 col2\" >9.082101</td>\n",
       "      <td id=\"T_a9ba3_row0_col3\" class=\"data row0 col3\" >29.000000</td>\n",
       "      <td id=\"T_a9ba3_row0_col4\" class=\"data row0 col4\" >47.500000</td>\n",
       "      <td id=\"T_a9ba3_row0_col5\" class=\"data row0 col5\" >55.000000</td>\n",
       "      <td id=\"T_a9ba3_row0_col6\" class=\"data row0 col6\" >61.000000</td>\n",
       "      <td id=\"T_a9ba3_row0_col7\" class=\"data row0 col7\" >77.000000</td>\n",
       "    </tr>\n",
       "    <tr>\n",
       "      <th id=\"T_a9ba3_level0_row1\" class=\"row_heading level0 row1\" >sex</th>\n",
       "      <td id=\"T_a9ba3_row1_col0\" class=\"data row1 col0\" >303.000000</td>\n",
       "      <td id=\"T_a9ba3_row1_col1\" class=\"data row1 col1\" >0.683168</td>\n",
       "      <td id=\"T_a9ba3_row1_col2\" class=\"data row1 col2\" >0.466011</td>\n",
       "      <td id=\"T_a9ba3_row1_col3\" class=\"data row1 col3\" >0.000000</td>\n",
       "      <td id=\"T_a9ba3_row1_col4\" class=\"data row1 col4\" >0.000000</td>\n",
       "      <td id=\"T_a9ba3_row1_col5\" class=\"data row1 col5\" >1.000000</td>\n",
       "      <td id=\"T_a9ba3_row1_col6\" class=\"data row1 col6\" >1.000000</td>\n",
       "      <td id=\"T_a9ba3_row1_col7\" class=\"data row1 col7\" >1.000000</td>\n",
       "    </tr>\n",
       "    <tr>\n",
       "      <th id=\"T_a9ba3_level0_row2\" class=\"row_heading level0 row2\" >cp</th>\n",
       "      <td id=\"T_a9ba3_row2_col0\" class=\"data row2 col0\" >303.000000</td>\n",
       "      <td id=\"T_a9ba3_row2_col1\" class=\"data row2 col1\" >0.966997</td>\n",
       "      <td id=\"T_a9ba3_row2_col2\" class=\"data row2 col2\" >1.032052</td>\n",
       "      <td id=\"T_a9ba3_row2_col3\" class=\"data row2 col3\" >0.000000</td>\n",
       "      <td id=\"T_a9ba3_row2_col4\" class=\"data row2 col4\" >0.000000</td>\n",
       "      <td id=\"T_a9ba3_row2_col5\" class=\"data row2 col5\" >1.000000</td>\n",
       "      <td id=\"T_a9ba3_row2_col6\" class=\"data row2 col6\" >2.000000</td>\n",
       "      <td id=\"T_a9ba3_row2_col7\" class=\"data row2 col7\" >3.000000</td>\n",
       "    </tr>\n",
       "    <tr>\n",
       "      <th id=\"T_a9ba3_level0_row3\" class=\"row_heading level0 row3\" >trestbps</th>\n",
       "      <td id=\"T_a9ba3_row3_col0\" class=\"data row3 col0\" >303.000000</td>\n",
       "      <td id=\"T_a9ba3_row3_col1\" class=\"data row3 col1\" >131.623762</td>\n",
       "      <td id=\"T_a9ba3_row3_col2\" class=\"data row3 col2\" >17.538143</td>\n",
       "      <td id=\"T_a9ba3_row3_col3\" class=\"data row3 col3\" >94.000000</td>\n",
       "      <td id=\"T_a9ba3_row3_col4\" class=\"data row3 col4\" >120.000000</td>\n",
       "      <td id=\"T_a9ba3_row3_col5\" class=\"data row3 col5\" >130.000000</td>\n",
       "      <td id=\"T_a9ba3_row3_col6\" class=\"data row3 col6\" >140.000000</td>\n",
       "      <td id=\"T_a9ba3_row3_col7\" class=\"data row3 col7\" >200.000000</td>\n",
       "    </tr>\n",
       "    <tr>\n",
       "      <th id=\"T_a9ba3_level0_row4\" class=\"row_heading level0 row4\" >chol</th>\n",
       "      <td id=\"T_a9ba3_row4_col0\" class=\"data row4 col0\" >303.000000</td>\n",
       "      <td id=\"T_a9ba3_row4_col1\" class=\"data row4 col1\" >246.264026</td>\n",
       "      <td id=\"T_a9ba3_row4_col2\" class=\"data row4 col2\" >51.830751</td>\n",
       "      <td id=\"T_a9ba3_row4_col3\" class=\"data row4 col3\" >126.000000</td>\n",
       "      <td id=\"T_a9ba3_row4_col4\" class=\"data row4 col4\" >211.000000</td>\n",
       "      <td id=\"T_a9ba3_row4_col5\" class=\"data row4 col5\" >240.000000</td>\n",
       "      <td id=\"T_a9ba3_row4_col6\" class=\"data row4 col6\" >274.500000</td>\n",
       "      <td id=\"T_a9ba3_row4_col7\" class=\"data row4 col7\" >564.000000</td>\n",
       "    </tr>\n",
       "    <tr>\n",
       "      <th id=\"T_a9ba3_level0_row5\" class=\"row_heading level0 row5\" >fbs</th>\n",
       "      <td id=\"T_a9ba3_row5_col0\" class=\"data row5 col0\" >303.000000</td>\n",
       "      <td id=\"T_a9ba3_row5_col1\" class=\"data row5 col1\" >0.148515</td>\n",
       "      <td id=\"T_a9ba3_row5_col2\" class=\"data row5 col2\" >0.356198</td>\n",
       "      <td id=\"T_a9ba3_row5_col3\" class=\"data row5 col3\" >0.000000</td>\n",
       "      <td id=\"T_a9ba3_row5_col4\" class=\"data row5 col4\" >0.000000</td>\n",
       "      <td id=\"T_a9ba3_row5_col5\" class=\"data row5 col5\" >0.000000</td>\n",
       "      <td id=\"T_a9ba3_row5_col6\" class=\"data row5 col6\" >0.000000</td>\n",
       "      <td id=\"T_a9ba3_row5_col7\" class=\"data row5 col7\" >1.000000</td>\n",
       "    </tr>\n",
       "    <tr>\n",
       "      <th id=\"T_a9ba3_level0_row6\" class=\"row_heading level0 row6\" >restecg</th>\n",
       "      <td id=\"T_a9ba3_row6_col0\" class=\"data row6 col0\" >303.000000</td>\n",
       "      <td id=\"T_a9ba3_row6_col1\" class=\"data row6 col1\" >0.528053</td>\n",
       "      <td id=\"T_a9ba3_row6_col2\" class=\"data row6 col2\" >0.525860</td>\n",
       "      <td id=\"T_a9ba3_row6_col3\" class=\"data row6 col3\" >0.000000</td>\n",
       "      <td id=\"T_a9ba3_row6_col4\" class=\"data row6 col4\" >0.000000</td>\n",
       "      <td id=\"T_a9ba3_row6_col5\" class=\"data row6 col5\" >1.000000</td>\n",
       "      <td id=\"T_a9ba3_row6_col6\" class=\"data row6 col6\" >1.000000</td>\n",
       "      <td id=\"T_a9ba3_row6_col7\" class=\"data row6 col7\" >2.000000</td>\n",
       "    </tr>\n",
       "    <tr>\n",
       "      <th id=\"T_a9ba3_level0_row7\" class=\"row_heading level0 row7\" >thalach</th>\n",
       "      <td id=\"T_a9ba3_row7_col0\" class=\"data row7 col0\" >303.000000</td>\n",
       "      <td id=\"T_a9ba3_row7_col1\" class=\"data row7 col1\" >149.646865</td>\n",
       "      <td id=\"T_a9ba3_row7_col2\" class=\"data row7 col2\" >22.905161</td>\n",
       "      <td id=\"T_a9ba3_row7_col3\" class=\"data row7 col3\" >71.000000</td>\n",
       "      <td id=\"T_a9ba3_row7_col4\" class=\"data row7 col4\" >133.500000</td>\n",
       "      <td id=\"T_a9ba3_row7_col5\" class=\"data row7 col5\" >153.000000</td>\n",
       "      <td id=\"T_a9ba3_row7_col6\" class=\"data row7 col6\" >166.000000</td>\n",
       "      <td id=\"T_a9ba3_row7_col7\" class=\"data row7 col7\" >202.000000</td>\n",
       "    </tr>\n",
       "    <tr>\n",
       "      <th id=\"T_a9ba3_level0_row8\" class=\"row_heading level0 row8\" >exang</th>\n",
       "      <td id=\"T_a9ba3_row8_col0\" class=\"data row8 col0\" >303.000000</td>\n",
       "      <td id=\"T_a9ba3_row8_col1\" class=\"data row8 col1\" >0.326733</td>\n",
       "      <td id=\"T_a9ba3_row8_col2\" class=\"data row8 col2\" >0.469794</td>\n",
       "      <td id=\"T_a9ba3_row8_col3\" class=\"data row8 col3\" >0.000000</td>\n",
       "      <td id=\"T_a9ba3_row8_col4\" class=\"data row8 col4\" >0.000000</td>\n",
       "      <td id=\"T_a9ba3_row8_col5\" class=\"data row8 col5\" >0.000000</td>\n",
       "      <td id=\"T_a9ba3_row8_col6\" class=\"data row8 col6\" >1.000000</td>\n",
       "      <td id=\"T_a9ba3_row8_col7\" class=\"data row8 col7\" >1.000000</td>\n",
       "    </tr>\n",
       "    <tr>\n",
       "      <th id=\"T_a9ba3_level0_row9\" class=\"row_heading level0 row9\" >oldpeak</th>\n",
       "      <td id=\"T_a9ba3_row9_col0\" class=\"data row9 col0\" >303.000000</td>\n",
       "      <td id=\"T_a9ba3_row9_col1\" class=\"data row9 col1\" >1.039604</td>\n",
       "      <td id=\"T_a9ba3_row9_col2\" class=\"data row9 col2\" >1.161075</td>\n",
       "      <td id=\"T_a9ba3_row9_col3\" class=\"data row9 col3\" >0.000000</td>\n",
       "      <td id=\"T_a9ba3_row9_col4\" class=\"data row9 col4\" >0.000000</td>\n",
       "      <td id=\"T_a9ba3_row9_col5\" class=\"data row9 col5\" >0.800000</td>\n",
       "      <td id=\"T_a9ba3_row9_col6\" class=\"data row9 col6\" >1.600000</td>\n",
       "      <td id=\"T_a9ba3_row9_col7\" class=\"data row9 col7\" >6.200000</td>\n",
       "    </tr>\n",
       "    <tr>\n",
       "      <th id=\"T_a9ba3_level0_row10\" class=\"row_heading level0 row10\" >slope</th>\n",
       "      <td id=\"T_a9ba3_row10_col0\" class=\"data row10 col0\" >303.000000</td>\n",
       "      <td id=\"T_a9ba3_row10_col1\" class=\"data row10 col1\" >1.399340</td>\n",
       "      <td id=\"T_a9ba3_row10_col2\" class=\"data row10 col2\" >0.616226</td>\n",
       "      <td id=\"T_a9ba3_row10_col3\" class=\"data row10 col3\" >0.000000</td>\n",
       "      <td id=\"T_a9ba3_row10_col4\" class=\"data row10 col4\" >1.000000</td>\n",
       "      <td id=\"T_a9ba3_row10_col5\" class=\"data row10 col5\" >1.000000</td>\n",
       "      <td id=\"T_a9ba3_row10_col6\" class=\"data row10 col6\" >2.000000</td>\n",
       "      <td id=\"T_a9ba3_row10_col7\" class=\"data row10 col7\" >2.000000</td>\n",
       "    </tr>\n",
       "    <tr>\n",
       "      <th id=\"T_a9ba3_level0_row11\" class=\"row_heading level0 row11\" >ca</th>\n",
       "      <td id=\"T_a9ba3_row11_col0\" class=\"data row11 col0\" >303.000000</td>\n",
       "      <td id=\"T_a9ba3_row11_col1\" class=\"data row11 col1\" >0.729373</td>\n",
       "      <td id=\"T_a9ba3_row11_col2\" class=\"data row11 col2\" >1.022606</td>\n",
       "      <td id=\"T_a9ba3_row11_col3\" class=\"data row11 col3\" >0.000000</td>\n",
       "      <td id=\"T_a9ba3_row11_col4\" class=\"data row11 col4\" >0.000000</td>\n",
       "      <td id=\"T_a9ba3_row11_col5\" class=\"data row11 col5\" >0.000000</td>\n",
       "      <td id=\"T_a9ba3_row11_col6\" class=\"data row11 col6\" >1.000000</td>\n",
       "      <td id=\"T_a9ba3_row11_col7\" class=\"data row11 col7\" >4.000000</td>\n",
       "    </tr>\n",
       "    <tr>\n",
       "      <th id=\"T_a9ba3_level0_row12\" class=\"row_heading level0 row12\" >thal</th>\n",
       "      <td id=\"T_a9ba3_row12_col0\" class=\"data row12 col0\" >303.000000</td>\n",
       "      <td id=\"T_a9ba3_row12_col1\" class=\"data row12 col1\" >2.313531</td>\n",
       "      <td id=\"T_a9ba3_row12_col2\" class=\"data row12 col2\" >0.612277</td>\n",
       "      <td id=\"T_a9ba3_row12_col3\" class=\"data row12 col3\" >0.000000</td>\n",
       "      <td id=\"T_a9ba3_row12_col4\" class=\"data row12 col4\" >2.000000</td>\n",
       "      <td id=\"T_a9ba3_row12_col5\" class=\"data row12 col5\" >2.000000</td>\n",
       "      <td id=\"T_a9ba3_row12_col6\" class=\"data row12 col6\" >3.000000</td>\n",
       "      <td id=\"T_a9ba3_row12_col7\" class=\"data row12 col7\" >3.000000</td>\n",
       "    </tr>\n",
       "    <tr>\n",
       "      <th id=\"T_a9ba3_level0_row13\" class=\"row_heading level0 row13\" >target</th>\n",
       "      <td id=\"T_a9ba3_row13_col0\" class=\"data row13 col0\" >303.000000</td>\n",
       "      <td id=\"T_a9ba3_row13_col1\" class=\"data row13 col1\" >0.544554</td>\n",
       "      <td id=\"T_a9ba3_row13_col2\" class=\"data row13 col2\" >0.498835</td>\n",
       "      <td id=\"T_a9ba3_row13_col3\" class=\"data row13 col3\" >0.000000</td>\n",
       "      <td id=\"T_a9ba3_row13_col4\" class=\"data row13 col4\" >0.000000</td>\n",
       "      <td id=\"T_a9ba3_row13_col5\" class=\"data row13 col5\" >1.000000</td>\n",
       "      <td id=\"T_a9ba3_row13_col6\" class=\"data row13 col6\" >1.000000</td>\n",
       "      <td id=\"T_a9ba3_row13_col7\" class=\"data row13 col7\" >1.000000</td>\n",
       "    </tr>\n",
       "  </tbody>\n",
       "</table>\n"
      ],
      "text/plain": [
       "<pandas.io.formats.style.Styler at 0x2babc1dd940>"
      ]
     },
     "execution_count": 82,
     "metadata": {},
     "output_type": "execute_result"
    }
   ],
   "source": [
    "df.select_dtypes(exclude='object').describe().T.style.background_gradient(cmap='PuRd').set_properties(**{'font-family': 'Segoe UI'})"
   ]
  },
  {
   "cell_type": "code",
   "execution_count": null,
   "id": "fbaba046",
   "metadata": {},
   "outputs": [],
   "source": [
    "#From the descriptive statistics, it can be seen that age, resting blood pressure, cholestoral, and thalach are lack of variation"
   ]
  },
  {
   "cell_type": "code",
   "execution_count": null,
   "id": "48c967b2",
   "metadata": {},
   "outputs": [],
   "source": []
  },
  {
   "cell_type": "code",
   "execution_count": null,
   "id": "4a3d1178",
   "metadata": {},
   "outputs": [],
   "source": [
    "#continous columns distribution"
   ]
  },
  {
   "cell_type": "code",
   "execution_count": null,
   "id": "95e2903b",
   "metadata": {},
   "outputs": [],
   "source": [
    "#age(patient age)"
   ]
  },
  {
   "cell_type": "code",
   "execution_count": 96,
   "id": "4ae0b542",
   "metadata": {},
   "outputs": [
    {
     "ename": "ValueError",
     "evalue": "The number of FixedLocator locations (2), usually from a call to set_ticks, does not match the number of ticklabels (1).",
     "output_type": "error",
     "traceback": [
      "\u001b[1;31m---------------------------------------------------------------------------\u001b[0m",
      "\u001b[1;31mValueError\u001b[0m                                Traceback (most recent call last)",
      "\u001b[1;32m~\\AppData\\Local\\Temp/ipykernel_13876/180342020.py\u001b[0m in \u001b[0;36m<module>\u001b[1;34m\u001b[0m\n\u001b[0;32m      3\u001b[0m \u001b[0mage\u001b[0m\u001b[1;33m.\u001b[0m\u001b[0mplot\u001b[0m\u001b[1;33m.\u001b[0m\u001b[0mbox\u001b[0m\u001b[1;33m(\u001b[0m\u001b[0mcolor\u001b[0m \u001b[1;33m=\u001b[0m \u001b[0mprops2\u001b[0m\u001b[1;33m)\u001b[0m\u001b[1;33m\u001b[0m\u001b[1;33m\u001b[0m\u001b[0m\n\u001b[0;32m      4\u001b[0m \u001b[0mplt\u001b[0m\u001b[1;33m.\u001b[0m\u001b[0mtitle\u001b[0m\u001b[1;33m(\u001b[0m\u001b[1;34m'boxplot for Age'\u001b[0m\u001b[1;33m)\u001b[0m\u001b[1;33m\u001b[0m\u001b[1;33m\u001b[0m\u001b[0m\n\u001b[1;32m----> 5\u001b[1;33m \u001b[0mdf\u001b[0m\u001b[1;33m[\u001b[0m\u001b[1;34m'age'\u001b[0m\u001b[1;33m]\u001b[0m\u001b[1;33m.\u001b[0m\u001b[0mplot\u001b[0m\u001b[1;33m.\u001b[0m\u001b[0mbox\u001b[0m\u001b[1;33m(\u001b[0m\u001b[0mcolor\u001b[0m \u001b[1;33m=\u001b[0m \u001b[0mprops2\u001b[0m\u001b[1;33m,\u001b[0m \u001b[0mpatch_artist\u001b[0m \u001b[1;33m=\u001b[0m \u001b[1;32mTrue\u001b[0m\u001b[1;33m,\u001b[0m \u001b[0mvert\u001b[0m \u001b[1;33m=\u001b[0m \u001b[1;34m\"True\"\u001b[0m\u001b[1;33m)\u001b[0m\u001b[1;33m\u001b[0m\u001b[1;33m\u001b[0m\u001b[0m\n\u001b[0m",
      "\u001b[1;32mC:\\ProgramData\\Anaconda3\\lib\\site-packages\\pandas\\plotting\\_core.py\u001b[0m in \u001b[0;36mbox\u001b[1;34m(self, by, **kwargs)\u001b[0m\n\u001b[0;32m   1264\u001b[0m             \u001b[1;33m>>\u001b[0m\u001b[1;33m>\u001b[0m \u001b[0max\u001b[0m \u001b[1;33m=\u001b[0m \u001b[0mdf\u001b[0m\u001b[1;33m.\u001b[0m\u001b[0mplot\u001b[0m\u001b[1;33m.\u001b[0m\u001b[0mbox\u001b[0m\u001b[1;33m(\u001b[0m\u001b[1;33m)\u001b[0m\u001b[1;33m\u001b[0m\u001b[1;33m\u001b[0m\u001b[0m\n\u001b[0;32m   1265\u001b[0m         \"\"\"\n\u001b[1;32m-> 1266\u001b[1;33m         \u001b[1;32mreturn\u001b[0m \u001b[0mself\u001b[0m\u001b[1;33m(\u001b[0m\u001b[0mkind\u001b[0m\u001b[1;33m=\u001b[0m\u001b[1;34m\"box\"\u001b[0m\u001b[1;33m,\u001b[0m \u001b[0mby\u001b[0m\u001b[1;33m=\u001b[0m\u001b[0mby\u001b[0m\u001b[1;33m,\u001b[0m \u001b[1;33m**\u001b[0m\u001b[0mkwargs\u001b[0m\u001b[1;33m)\u001b[0m\u001b[1;33m\u001b[0m\u001b[1;33m\u001b[0m\u001b[0m\n\u001b[0m\u001b[0;32m   1267\u001b[0m \u001b[1;33m\u001b[0m\u001b[0m\n\u001b[0;32m   1268\u001b[0m     \u001b[1;32mdef\u001b[0m \u001b[0mhist\u001b[0m\u001b[1;33m(\u001b[0m\u001b[0mself\u001b[0m\u001b[1;33m,\u001b[0m \u001b[0mby\u001b[0m\u001b[1;33m=\u001b[0m\u001b[1;32mNone\u001b[0m\u001b[1;33m,\u001b[0m \u001b[0mbins\u001b[0m\u001b[1;33m=\u001b[0m\u001b[1;36m10\u001b[0m\u001b[1;33m,\u001b[0m \u001b[1;33m**\u001b[0m\u001b[0mkwargs\u001b[0m\u001b[1;33m)\u001b[0m\u001b[1;33m:\u001b[0m\u001b[1;33m\u001b[0m\u001b[1;33m\u001b[0m\u001b[0m\n",
      "\u001b[1;32mC:\\ProgramData\\Anaconda3\\lib\\site-packages\\pandas\\plotting\\_core.py\u001b[0m in \u001b[0;36m__call__\u001b[1;34m(self, *args, **kwargs)\u001b[0m\n\u001b[0;32m    970\u001b[0m                     \u001b[0mdata\u001b[0m\u001b[1;33m.\u001b[0m\u001b[0mcolumns\u001b[0m \u001b[1;33m=\u001b[0m \u001b[0mlabel_name\u001b[0m\u001b[1;33m\u001b[0m\u001b[1;33m\u001b[0m\u001b[0m\n\u001b[0;32m    971\u001b[0m \u001b[1;33m\u001b[0m\u001b[0m\n\u001b[1;32m--> 972\u001b[1;33m         \u001b[1;32mreturn\u001b[0m \u001b[0mplot_backend\u001b[0m\u001b[1;33m.\u001b[0m\u001b[0mplot\u001b[0m\u001b[1;33m(\u001b[0m\u001b[0mdata\u001b[0m\u001b[1;33m,\u001b[0m \u001b[0mkind\u001b[0m\u001b[1;33m=\u001b[0m\u001b[0mkind\u001b[0m\u001b[1;33m,\u001b[0m \u001b[1;33m**\u001b[0m\u001b[0mkwargs\u001b[0m\u001b[1;33m)\u001b[0m\u001b[1;33m\u001b[0m\u001b[1;33m\u001b[0m\u001b[0m\n\u001b[0m\u001b[0;32m    973\u001b[0m \u001b[1;33m\u001b[0m\u001b[0m\n\u001b[0;32m    974\u001b[0m     \u001b[0m__call__\u001b[0m\u001b[1;33m.\u001b[0m\u001b[0m__doc__\u001b[0m \u001b[1;33m=\u001b[0m \u001b[0m__doc__\u001b[0m\u001b[1;33m\u001b[0m\u001b[1;33m\u001b[0m\u001b[0m\n",
      "\u001b[1;32mC:\\ProgramData\\Anaconda3\\lib\\site-packages\\pandas\\plotting\\_matplotlib\\__init__.py\u001b[0m in \u001b[0;36mplot\u001b[1;34m(data, kind, **kwargs)\u001b[0m\n\u001b[0;32m     69\u001b[0m             \u001b[0mkwargs\u001b[0m\u001b[1;33m[\u001b[0m\u001b[1;34m\"ax\"\u001b[0m\u001b[1;33m]\u001b[0m \u001b[1;33m=\u001b[0m \u001b[0mgetattr\u001b[0m\u001b[1;33m(\u001b[0m\u001b[0max\u001b[0m\u001b[1;33m,\u001b[0m \u001b[1;34m\"left_ax\"\u001b[0m\u001b[1;33m,\u001b[0m \u001b[0max\u001b[0m\u001b[1;33m)\u001b[0m\u001b[1;33m\u001b[0m\u001b[1;33m\u001b[0m\u001b[0m\n\u001b[0;32m     70\u001b[0m     \u001b[0mplot_obj\u001b[0m \u001b[1;33m=\u001b[0m \u001b[0mPLOT_CLASSES\u001b[0m\u001b[1;33m[\u001b[0m\u001b[0mkind\u001b[0m\u001b[1;33m]\u001b[0m\u001b[1;33m(\u001b[0m\u001b[0mdata\u001b[0m\u001b[1;33m,\u001b[0m \u001b[1;33m**\u001b[0m\u001b[0mkwargs\u001b[0m\u001b[1;33m)\u001b[0m\u001b[1;33m\u001b[0m\u001b[1;33m\u001b[0m\u001b[0m\n\u001b[1;32m---> 71\u001b[1;33m     \u001b[0mplot_obj\u001b[0m\u001b[1;33m.\u001b[0m\u001b[0mgenerate\u001b[0m\u001b[1;33m(\u001b[0m\u001b[1;33m)\u001b[0m\u001b[1;33m\u001b[0m\u001b[1;33m\u001b[0m\u001b[0m\n\u001b[0m\u001b[0;32m     72\u001b[0m     \u001b[0mplot_obj\u001b[0m\u001b[1;33m.\u001b[0m\u001b[0mdraw\u001b[0m\u001b[1;33m(\u001b[0m\u001b[1;33m)\u001b[0m\u001b[1;33m\u001b[0m\u001b[1;33m\u001b[0m\u001b[0m\n\u001b[0;32m     73\u001b[0m     \u001b[1;32mreturn\u001b[0m \u001b[0mplot_obj\u001b[0m\u001b[1;33m.\u001b[0m\u001b[0mresult\u001b[0m\u001b[1;33m\u001b[0m\u001b[1;33m\u001b[0m\u001b[0m\n",
      "\u001b[1;32mC:\\ProgramData\\Anaconda3\\lib\\site-packages\\pandas\\plotting\\_matplotlib\\core.py\u001b[0m in \u001b[0;36mgenerate\u001b[1;34m(self)\u001b[0m\n\u001b[0;32m    286\u001b[0m         \u001b[0mself\u001b[0m\u001b[1;33m.\u001b[0m\u001b[0m_compute_plot_data\u001b[0m\u001b[1;33m(\u001b[0m\u001b[1;33m)\u001b[0m\u001b[1;33m\u001b[0m\u001b[1;33m\u001b[0m\u001b[0m\n\u001b[0;32m    287\u001b[0m         \u001b[0mself\u001b[0m\u001b[1;33m.\u001b[0m\u001b[0m_setup_subplots\u001b[0m\u001b[1;33m(\u001b[0m\u001b[1;33m)\u001b[0m\u001b[1;33m\u001b[0m\u001b[1;33m\u001b[0m\u001b[0m\n\u001b[1;32m--> 288\u001b[1;33m         \u001b[0mself\u001b[0m\u001b[1;33m.\u001b[0m\u001b[0m_make_plot\u001b[0m\u001b[1;33m(\u001b[0m\u001b[1;33m)\u001b[0m\u001b[1;33m\u001b[0m\u001b[1;33m\u001b[0m\u001b[0m\n\u001b[0m\u001b[0;32m    289\u001b[0m         \u001b[0mself\u001b[0m\u001b[1;33m.\u001b[0m\u001b[0m_add_table\u001b[0m\u001b[1;33m(\u001b[0m\u001b[1;33m)\u001b[0m\u001b[1;33m\u001b[0m\u001b[1;33m\u001b[0m\u001b[0m\n\u001b[0;32m    290\u001b[0m         \u001b[0mself\u001b[0m\u001b[1;33m.\u001b[0m\u001b[0m_make_legend\u001b[0m\u001b[1;33m(\u001b[0m\u001b[1;33m)\u001b[0m\u001b[1;33m\u001b[0m\u001b[1;33m\u001b[0m\u001b[0m\n",
      "\u001b[1;32mC:\\ProgramData\\Anaconda3\\lib\\site-packages\\pandas\\plotting\\_matplotlib\\boxplot.py\u001b[0m in \u001b[0;36m_make_plot\u001b[1;34m(self)\u001b[0m\n\u001b[0;32m    163\u001b[0m             \u001b[1;32mif\u001b[0m \u001b[1;32mnot\u001b[0m \u001b[0mself\u001b[0m\u001b[1;33m.\u001b[0m\u001b[0muse_index\u001b[0m\u001b[1;33m:\u001b[0m\u001b[1;33m\u001b[0m\u001b[1;33m\u001b[0m\u001b[0m\n\u001b[0;32m    164\u001b[0m                 \u001b[0mlabels\u001b[0m \u001b[1;33m=\u001b[0m \u001b[1;33m[\u001b[0m\u001b[0mpprint_thing\u001b[0m\u001b[1;33m(\u001b[0m\u001b[0mkey\u001b[0m\u001b[1;33m)\u001b[0m \u001b[1;32mfor\u001b[0m \u001b[0mkey\u001b[0m \u001b[1;32min\u001b[0m \u001b[0mrange\u001b[0m\u001b[1;33m(\u001b[0m\u001b[0mlen\u001b[0m\u001b[1;33m(\u001b[0m\u001b[0mlabels\u001b[0m\u001b[1;33m)\u001b[0m\u001b[1;33m)\u001b[0m\u001b[1;33m]\u001b[0m\u001b[1;33m\u001b[0m\u001b[1;33m\u001b[0m\u001b[0m\n\u001b[1;32m--> 165\u001b[1;33m             \u001b[0mself\u001b[0m\u001b[1;33m.\u001b[0m\u001b[0m_set_ticklabels\u001b[0m\u001b[1;33m(\u001b[0m\u001b[0max\u001b[0m\u001b[1;33m,\u001b[0m \u001b[0mlabels\u001b[0m\u001b[1;33m)\u001b[0m\u001b[1;33m\u001b[0m\u001b[1;33m\u001b[0m\u001b[0m\n\u001b[0m\u001b[0;32m    166\u001b[0m \u001b[1;33m\u001b[0m\u001b[0m\n\u001b[0;32m    167\u001b[0m     \u001b[1;32mdef\u001b[0m \u001b[0m_set_ticklabels\u001b[0m\u001b[1;33m(\u001b[0m\u001b[0mself\u001b[0m\u001b[1;33m,\u001b[0m \u001b[0max\u001b[0m\u001b[1;33m:\u001b[0m \u001b[0mAxes\u001b[0m\u001b[1;33m,\u001b[0m \u001b[0mlabels\u001b[0m\u001b[1;33m)\u001b[0m\u001b[1;33m:\u001b[0m\u001b[1;33m\u001b[0m\u001b[1;33m\u001b[0m\u001b[0m\n",
      "\u001b[1;32mC:\\ProgramData\\Anaconda3\\lib\\site-packages\\pandas\\plotting\\_matplotlib\\boxplot.py\u001b[0m in \u001b[0;36m_set_ticklabels\u001b[1;34m(self, ax, labels)\u001b[0m\n\u001b[0;32m    167\u001b[0m     \u001b[1;32mdef\u001b[0m \u001b[0m_set_ticklabels\u001b[0m\u001b[1;33m(\u001b[0m\u001b[0mself\u001b[0m\u001b[1;33m,\u001b[0m \u001b[0max\u001b[0m\u001b[1;33m:\u001b[0m \u001b[0mAxes\u001b[0m\u001b[1;33m,\u001b[0m \u001b[0mlabels\u001b[0m\u001b[1;33m)\u001b[0m\u001b[1;33m:\u001b[0m\u001b[1;33m\u001b[0m\u001b[1;33m\u001b[0m\u001b[0m\n\u001b[0;32m    168\u001b[0m         \u001b[1;32mif\u001b[0m \u001b[0mself\u001b[0m\u001b[1;33m.\u001b[0m\u001b[0morientation\u001b[0m \u001b[1;33m==\u001b[0m \u001b[1;34m\"vertical\"\u001b[0m\u001b[1;33m:\u001b[0m\u001b[1;33m\u001b[0m\u001b[1;33m\u001b[0m\u001b[0m\n\u001b[1;32m--> 169\u001b[1;33m             \u001b[0max\u001b[0m\u001b[1;33m.\u001b[0m\u001b[0mset_xticklabels\u001b[0m\u001b[1;33m(\u001b[0m\u001b[0mlabels\u001b[0m\u001b[1;33m)\u001b[0m\u001b[1;33m\u001b[0m\u001b[1;33m\u001b[0m\u001b[0m\n\u001b[0m\u001b[0;32m    170\u001b[0m         \u001b[1;32melse\u001b[0m\u001b[1;33m:\u001b[0m\u001b[1;33m\u001b[0m\u001b[1;33m\u001b[0m\u001b[0m\n\u001b[0;32m    171\u001b[0m             \u001b[0max\u001b[0m\u001b[1;33m.\u001b[0m\u001b[0mset_yticklabels\u001b[0m\u001b[1;33m(\u001b[0m\u001b[0mlabels\u001b[0m\u001b[1;33m)\u001b[0m\u001b[1;33m\u001b[0m\u001b[1;33m\u001b[0m\u001b[0m\n",
      "\u001b[1;32mC:\\ProgramData\\Anaconda3\\lib\\site-packages\\matplotlib\\axes\\_base.py\u001b[0m in \u001b[0;36mwrapper\u001b[1;34m(self, *args, **kwargs)\u001b[0m\n\u001b[0;32m     71\u001b[0m \u001b[1;33m\u001b[0m\u001b[0m\n\u001b[0;32m     72\u001b[0m         \u001b[1;32mdef\u001b[0m \u001b[0mwrapper\u001b[0m\u001b[1;33m(\u001b[0m\u001b[0mself\u001b[0m\u001b[1;33m,\u001b[0m \u001b[1;33m*\u001b[0m\u001b[0margs\u001b[0m\u001b[1;33m,\u001b[0m \u001b[1;33m**\u001b[0m\u001b[0mkwargs\u001b[0m\u001b[1;33m)\u001b[0m\u001b[1;33m:\u001b[0m\u001b[1;33m\u001b[0m\u001b[1;33m\u001b[0m\u001b[0m\n\u001b[1;32m---> 73\u001b[1;33m             \u001b[1;32mreturn\u001b[0m \u001b[0mget_method\u001b[0m\u001b[1;33m(\u001b[0m\u001b[0mself\u001b[0m\u001b[1;33m)\u001b[0m\u001b[1;33m(\u001b[0m\u001b[1;33m*\u001b[0m\u001b[0margs\u001b[0m\u001b[1;33m,\u001b[0m \u001b[1;33m**\u001b[0m\u001b[0mkwargs\u001b[0m\u001b[1;33m)\u001b[0m\u001b[1;33m\u001b[0m\u001b[1;33m\u001b[0m\u001b[0m\n\u001b[0m\u001b[0;32m     74\u001b[0m \u001b[1;33m\u001b[0m\u001b[0m\n\u001b[0;32m     75\u001b[0m         \u001b[0mwrapper\u001b[0m\u001b[1;33m.\u001b[0m\u001b[0m__module__\u001b[0m \u001b[1;33m=\u001b[0m \u001b[0mowner\u001b[0m\u001b[1;33m.\u001b[0m\u001b[0m__module__\u001b[0m\u001b[1;33m\u001b[0m\u001b[1;33m\u001b[0m\u001b[0m\n",
      "\u001b[1;32mC:\\ProgramData\\Anaconda3\\lib\\site-packages\\matplotlib\\_api\\deprecation.py\u001b[0m in \u001b[0;36mwrapper\u001b[1;34m(*args, **kwargs)\u001b[0m\n\u001b[0;32m    469\u001b[0m                 \u001b[1;34m\"parameter will become keyword-only %(removal)s.\"\u001b[0m\u001b[1;33m,\u001b[0m\u001b[1;33m\u001b[0m\u001b[1;33m\u001b[0m\u001b[0m\n\u001b[0;32m    470\u001b[0m                 name=name, obj_type=f\"parameter of {func.__name__}()\")\n\u001b[1;32m--> 471\u001b[1;33m         \u001b[1;32mreturn\u001b[0m \u001b[0mfunc\u001b[0m\u001b[1;33m(\u001b[0m\u001b[1;33m*\u001b[0m\u001b[0margs\u001b[0m\u001b[1;33m,\u001b[0m \u001b[1;33m**\u001b[0m\u001b[0mkwargs\u001b[0m\u001b[1;33m)\u001b[0m\u001b[1;33m\u001b[0m\u001b[1;33m\u001b[0m\u001b[0m\n\u001b[0m\u001b[0;32m    472\u001b[0m \u001b[1;33m\u001b[0m\u001b[0m\n\u001b[0;32m    473\u001b[0m     \u001b[1;32mreturn\u001b[0m \u001b[0mwrapper\u001b[0m\u001b[1;33m\u001b[0m\u001b[1;33m\u001b[0m\u001b[0m\n",
      "\u001b[1;32mC:\\ProgramData\\Anaconda3\\lib\\site-packages\\matplotlib\\axis.py\u001b[0m in \u001b[0;36m_set_ticklabels\u001b[1;34m(self, labels, fontdict, minor, **kwargs)\u001b[0m\n\u001b[0;32m   1793\u001b[0m         \u001b[1;32mif\u001b[0m \u001b[0mfontdict\u001b[0m \u001b[1;32mis\u001b[0m \u001b[1;32mnot\u001b[0m \u001b[1;32mNone\u001b[0m\u001b[1;33m:\u001b[0m\u001b[1;33m\u001b[0m\u001b[1;33m\u001b[0m\u001b[0m\n\u001b[0;32m   1794\u001b[0m             \u001b[0mkwargs\u001b[0m\u001b[1;33m.\u001b[0m\u001b[0mupdate\u001b[0m\u001b[1;33m(\u001b[0m\u001b[0mfontdict\u001b[0m\u001b[1;33m)\u001b[0m\u001b[1;33m\u001b[0m\u001b[1;33m\u001b[0m\u001b[0m\n\u001b[1;32m-> 1795\u001b[1;33m         \u001b[1;32mreturn\u001b[0m \u001b[0mself\u001b[0m\u001b[1;33m.\u001b[0m\u001b[0mset_ticklabels\u001b[0m\u001b[1;33m(\u001b[0m\u001b[0mlabels\u001b[0m\u001b[1;33m,\u001b[0m \u001b[0mminor\u001b[0m\u001b[1;33m=\u001b[0m\u001b[0mminor\u001b[0m\u001b[1;33m,\u001b[0m \u001b[1;33m**\u001b[0m\u001b[0mkwargs\u001b[0m\u001b[1;33m)\u001b[0m\u001b[1;33m\u001b[0m\u001b[1;33m\u001b[0m\u001b[0m\n\u001b[0m\u001b[0;32m   1796\u001b[0m \u001b[1;33m\u001b[0m\u001b[0m\n\u001b[0;32m   1797\u001b[0m     \u001b[1;32mdef\u001b[0m \u001b[0mset_ticks\u001b[0m\u001b[1;33m(\u001b[0m\u001b[0mself\u001b[0m\u001b[1;33m,\u001b[0m \u001b[0mticks\u001b[0m\u001b[1;33m,\u001b[0m \u001b[1;33m*\u001b[0m\u001b[1;33m,\u001b[0m \u001b[0mminor\u001b[0m\u001b[1;33m=\u001b[0m\u001b[1;32mFalse\u001b[0m\u001b[1;33m)\u001b[0m\u001b[1;33m:\u001b[0m\u001b[1;33m\u001b[0m\u001b[1;33m\u001b[0m\u001b[0m\n",
      "\u001b[1;32mC:\\ProgramData\\Anaconda3\\lib\\site-packages\\matplotlib\\axis.py\u001b[0m in \u001b[0;36mset_ticklabels\u001b[1;34m(self, ticklabels, minor, **kwargs)\u001b[0m\n\u001b[0;32m   1714\u001b[0m             \u001b[1;31m# remove all tick labels, so only error for > 0 ticklabels\u001b[0m\u001b[1;33m\u001b[0m\u001b[1;33m\u001b[0m\u001b[0m\n\u001b[0;32m   1715\u001b[0m             \u001b[1;32mif\u001b[0m \u001b[0mlen\u001b[0m\u001b[1;33m(\u001b[0m\u001b[0mlocator\u001b[0m\u001b[1;33m.\u001b[0m\u001b[0mlocs\u001b[0m\u001b[1;33m)\u001b[0m \u001b[1;33m!=\u001b[0m \u001b[0mlen\u001b[0m\u001b[1;33m(\u001b[0m\u001b[0mticklabels\u001b[0m\u001b[1;33m)\u001b[0m \u001b[1;32mand\u001b[0m \u001b[0mlen\u001b[0m\u001b[1;33m(\u001b[0m\u001b[0mticklabels\u001b[0m\u001b[1;33m)\u001b[0m \u001b[1;33m!=\u001b[0m \u001b[1;36m0\u001b[0m\u001b[1;33m:\u001b[0m\u001b[1;33m\u001b[0m\u001b[1;33m\u001b[0m\u001b[0m\n\u001b[1;32m-> 1716\u001b[1;33m                 raise ValueError(\n\u001b[0m\u001b[0;32m   1717\u001b[0m                     \u001b[1;34m\"The number of FixedLocator locations\"\u001b[0m\u001b[1;33m\u001b[0m\u001b[1;33m\u001b[0m\u001b[0m\n\u001b[0;32m   1718\u001b[0m                     \u001b[1;34mf\" ({len(locator.locs)}), usually from a call to\"\u001b[0m\u001b[1;33m\u001b[0m\u001b[1;33m\u001b[0m\u001b[0m\n",
      "\u001b[1;31mValueError\u001b[0m: The number of FixedLocator locations (2), usually from a call to set_ticks, does not match the number of ticklabels (1)."
     ]
    },
    {
     "data": {
      "image/png": "[encoded data removed]",
      "text/plain": [
       "<Figure size 432x288 with 1 Axes>"
      ]
     },
     "metadata": {
      "needs_background": "light"
     },
     "output_type": "display_data"
    }
   ],
   "source": [
    "age = df['age']\n",
    "props2 = dict(boxes = 'red',whiskers = 'green',medians = 'black',caps = 'blue')\n",
    "age.plot.box(color = props2)\n",
    "plt.title('boxplot for Age')\n",
    "df['age'].plot.box(color = props2, patch_artist = True, vert = \"True\")"
   ]
  },
  {
   "cell_type": "code",
   "execution_count": 104,
   "id": "8df80b9c",
   "metadata": {},
   "outputs": [
    {
     "data": {
      "image/png": "[encoded data removed]",
      "text/plain": [
       "<Figure size 432x288 with 1 Axes>"
      ]
     },
     "metadata": {
      "needs_background": "light"
     },
     "output_type": "display_data"
    }
   ],
   "source": [
    "sns.distplot(df.age, kde=True)\n",
    "plt.xlabel('Total')\n",
    "plt.ylabel(\"age\")\n",
    "plt.title(\"histogram for age\")\n",
    "plt.show()"
   ]
  },
  {
   "cell_type": "code",
   "execution_count": null,
   "id": "fca1cf60",
   "metadata": {},
   "outputs": [],
   "source": [
    "# From the histogram and boxplot, it can be seen that this column is normally distributed"
   ]
  },
  {
   "cell_type": "code",
   "execution_count": null,
   "id": "195a01d9",
   "metadata": {},
   "outputs": [],
   "source": []
  },
  {
   "cell_type": "code",
   "execution_count": null,
   "id": "6f72d8b9",
   "metadata": {},
   "outputs": [],
   "source": [
    "#trestbps (Resting Blood Pressure in mm Hg)"
   ]
  },
  {
   "cell_type": "code",
   "execution_count": 106,
   "id": "4b6efb32",
   "metadata": {},
   "outputs": [
    {
     "data": {
      "text/plain": [
       "<AxesSubplot:xlabel='trestbps'>"
      ]
     },
     "execution_count": 106,
     "metadata": {},
     "output_type": "execute_result"
    },
    {
     "data": {
      "image/png": "[encoded data removed]",
      "text/plain": [
       "<Figure size 432x288 with 1 Axes>"
      ]
     },
     "metadata": {
      "needs_background": "light"
     },
     "output_type": "display_data"
    }
   ],
   "source": [
    "sns.boxplot(df.trestbps)"
   ]
  },
  {
   "cell_type": "code",
   "execution_count": 111,
   "id": "b253ed2f",
   "metadata": {},
   "outputs": [
    {
     "name": "stdout",
     "output_type": "stream",
     "text": [
      "Q3: 140.0\n",
      "Q1: 120.0\n",
      "IQR: 20.0\n",
      "HE: 170.0\n",
      "LE: 90.0\n",
      "total_no_of_outliers: 9\n",
      "out_of: 303\n"
     ]
    }
   ],
   "source": [
    "Q3=df.trestbps.quantile(0.75)\n",
    "Q1=df.trestbps.quantile(0.25)\n",
    "print('Q3:',Q3)\n",
    "print('Q1:',Q1)\n",
    "IQR=Q3-Q1\n",
    "print('IQR:',IQR)\n",
    "HE=Q3+1.5*IQR\n",
    "LE=Q1-1.5*IQR\n",
    "print('HE:',HE)\n",
    "print('LE:',LE)\n",
    "_HE=len(df[df.trestbps>HE])\n",
    "_LE=len(df[df.trestbps<LE])\n",
    "No_of_outliers=_HE+_LE\n",
    "print('total_no_of_outliers:',No_of_outliers)\n",
    "total=df.trestbps.value_counts().sum()\n",
    "print('out_of:',total)"
   ]
  },
  {
   "cell_type": "code",
   "execution_count": 112,
   "id": "7d49a943",
   "metadata": {},
   "outputs": [],
   "source": [
    "df.loc[df['trestbps']>=HE,'trestbps']=HE\n",
    "df.loc[df['trestbps']<=LE,'trestbps']=LE"
   ]
  },
  {
   "cell_type": "code",
   "execution_count": 163,
   "id": "ed0d5eaa",
   "metadata": {},
   "outputs": [
    {
     "data": {
      "text/plain": [
       "Text(0.5, 1.0, 'boxplot for trestbps')"
      ]
     },
     "execution_count": 163,
     "metadata": {},
     "output_type": "execute_result"
    },
    {
     "data": {
      "image/png": "[encoded data removed]",
      "text/plain": [
       "<Figure size 432x288 with 1 Axes>"
      ]
     },
     "metadata": {
      "needs_background": "light"
     },
     "output_type": "display_data"
    }
   ],
   "source": [
    "sns.boxplot(df.trestbps)\n",
    "plt.title(\"boxplot for trestbps\")"
   ]
  },
  {
   "cell_type": "code",
   "execution_count": 164,
   "id": "1d300fd9",
   "metadata": {},
   "outputs": [
    {
     "data": {
      "image/png": "[encoded data removed]",
      "text/plain": [
       "<Figure size 432x288 with 1 Axes>"
      ]
     },
     "metadata": {
      "needs_background": "light"
     },
     "output_type": "display_data"
    }
   ],
   "source": [
    "sns.distplot(df.trestbps, kde=True)\n",
    "plt.xlabel('Total')\n",
    "plt.ylabel(\"Resting blood pressure\")\n",
    "plt.title(\"histogram for trestbps\")\n",
    "plt.show()"
   ]
  },
  {
   "cell_type": "code",
   "execution_count": 115,
   "id": "def26c40",
   "metadata": {},
   "outputs": [
    {
     "data": {
      "text/plain": [
       "<AxesSubplot:xlabel='chol'>"
      ]
     },
     "execution_count": 115,
     "metadata": {},
     "output_type": "execute_result"
    },
    {
     "data": {
      "image/png": "[encoded data removed]",
      "text/plain": [
       "<Figure size 432x288 with 1 Axes>"
      ]
     },
     "metadata": {
      "needs_background": "light"
     },
     "output_type": "display_data"
    }
   ],
   "source": [
    "sns.boxplot(df.chol)"
   ]
  },
  {
   "cell_type": "code",
   "execution_count": 117,
   "id": "3e40466f",
   "metadata": {},
   "outputs": [
    {
     "name": "stdout",
     "output_type": "stream",
     "text": [
      "Q3: 274.5\n",
      "Q1: 211.0\n",
      "IQR: 63.5\n",
      "HE: 369.75\n",
      "LE: 115.75\n",
      "total_no_of_outliers: 5\n",
      "out_of: 303\n"
     ]
    }
   ],
   "source": [
    "Q3=df.chol.quantile(0.75)\n",
    "Q1=df.chol.quantile(0.25)\n",
    "print('Q3:',Q3)\n",
    "print('Q1:',Q1)\n",
    "IQR=Q3-Q1\n",
    "print('IQR:',IQR)\n",
    "HE=Q3+1.5*IQR\n",
    "LE=Q1-1.5*IQR\n",
    "print('HE:',HE)\n",
    "print('LE:',LE)\n",
    "_HE=len(df[df.chol>HE])\n",
    "_LE=len(df[df.chol<LE])\n",
    "No_of_outliers=_HE+_LE\n",
    "print('total_no_of_outliers:',No_of_outliers)\n",
    "total=df.chol.value_counts().sum()\n",
    "print('out_of:',total)"
   ]
  },
  {
   "cell_type": "code",
   "execution_count": 118,
   "id": "1241d6db",
   "metadata": {},
   "outputs": [],
   "source": [
    "df.loc[df['chol']>=HE,'chol']=HE\n",
    "df.loc[df['chol']<=LE,'chol']=LE"
   ]
  },
  {
   "cell_type": "code",
   "execution_count": 165,
   "id": "0fb3433d",
   "metadata": {},
   "outputs": [
    {
     "data": {
      "text/plain": [
       "Text(0.5, 1.0, 'boxplot for chol')"
      ]
     },
     "execution_count": 165,
     "metadata": {},
     "output_type": "execute_result"
    },
    {
     "data": {
      "image/png": "[encoded data removed]",
      "text/plain": [
       "<Figure size 432x288 with 1 Axes>"
      ]
     },
     "metadata": {
      "needs_background": "light"
     },
     "output_type": "display_data"
    }
   ],
   "source": [
    "sns.boxplot(df.chol)\n",
    "plt.title(\"boxplot for chol\")"
   ]
  },
  {
   "cell_type": "code",
   "execution_count": 166,
   "id": "9775fffd",
   "metadata": {},
   "outputs": [
    {
     "data": {
      "text/plain": [
       "Text(0.5, 1.0, 'histogram for chol')"
      ]
     },
     "execution_count": 166,
     "metadata": {},
     "output_type": "execute_result"
    },
    {
     "data": {
      "image/png": "[encoded data removed]",
      "text/plain": [
       "<Figure size 432x288 with 1 Axes>"
      ]
     },
     "metadata": {
      "needs_background": "light"
     },
     "output_type": "display_data"
    }
   ],
   "source": [
    "sns.distplot(df.chol)\n",
    "plt.title(\"histogram for chol\")"
   ]
  },
  {
   "cell_type": "code",
   "execution_count": 122,
   "id": "f880c657",
   "metadata": {},
   "outputs": [
    {
     "data": {
      "text/plain": [
       "<AxesSubplot:xlabel='thalach'>"
      ]
     },
     "execution_count": 122,
     "metadata": {},
     "output_type": "execute_result"
    },
    {
     "data": {
      "image/png": "[encoded data removed]",
      "text/plain": [
       "<Figure size 432x288 with 1 Axes>"
      ]
     },
     "metadata": {
      "needs_background": "light"
     },
     "output_type": "display_data"
    }
   ],
   "source": [
    "sns.boxplot(df.thalach)"
   ]
  },
  {
   "cell_type": "code",
   "execution_count": 123,
   "id": "7cf68b78",
   "metadata": {},
   "outputs": [
    {
     "name": "stdout",
     "output_type": "stream",
     "text": [
      "Q3: 166.0\n",
      "Q1: 133.5\n",
      "IQR: 32.5\n",
      "HE: 214.75\n",
      "LE: 84.75\n",
      "total_no_of_outliers: 1\n",
      "out_of: 303\n"
     ]
    }
   ],
   "source": [
    "Q3=df.thalach.quantile(0.75)\n",
    "Q1=df.thalach.quantile(0.25)\n",
    "print('Q3:',Q3)\n",
    "print('Q1:',Q1)\n",
    "IQR=Q3-Q1\n",
    "print('IQR:',IQR)\n",
    "HE=Q3+1.5*IQR\n",
    "LE=Q1-1.5*IQR\n",
    "print('HE:',HE)\n",
    "print('LE:',LE)\n",
    "_HE=len(df[df.thalach>HE])\n",
    "_LE=len(df[df.thalach<LE])\n",
    "No_of_outliers=_HE+_LE\n",
    "print('total_no_of_outliers:',No_of_outliers)\n",
    "total=df.thalach.value_counts().sum()\n",
    "print('out_of:',total)"
   ]
  },
  {
   "cell_type": "code",
   "execution_count": 124,
   "id": "d676690a",
   "metadata": {},
   "outputs": [],
   "source": [
    "df.loc[df['thalach']>=HE,'thalach']=HE\n",
    "df.loc[df['thalach']<=LE,'thalach']=LE"
   ]
  },
  {
   "cell_type": "code",
   "execution_count": 169,
   "id": "dc81b1ff",
   "metadata": {},
   "outputs": [
    {
     "data": {
      "text/plain": [
       "Text(0.5, 1.0, 'boxplot for thalach')"
      ]
     },
     "execution_count": 169,
     "metadata": {},
     "output_type": "execute_result"
    },
    {
     "data": {
      "image/png": "[encoded data removed]",
      "text/plain": [
       "<Figure size 432x288 with 1 Axes>"
      ]
     },
     "metadata": {
      "needs_background": "light"
     },
     "output_type": "display_data"
    }
   ],
   "source": [
    "sns.boxplot(df.thalach)\n",
    "plt.title(\"boxplot for thalach\")"
   ]
  },
  {
   "cell_type": "code",
   "execution_count": 170,
   "id": "79aaef73",
   "metadata": {},
   "outputs": [
    {
     "data": {
      "text/plain": [
       "Text(0.5, 1.0, 'histogram for thalach')"
      ]
     },
     "execution_count": 170,
     "metadata": {},
     "output_type": "execute_result"
    },
    {
     "data": {
      "image/png": "[encoded data removed]",
      "text/plain": [
       "<Figure size 432x288 with 1 Axes>"
      ]
     },
     "metadata": {
      "needs_background": "light"
     },
     "output_type": "display_data"
    }
   ],
   "source": [
    "sns.distplot(df.thalach)\n",
    "plt.title(\"histogram for thalach\")"
   ]
  },
  {
   "cell_type": "code",
   "execution_count": 128,
   "id": "06205e42",
   "metadata": {},
   "outputs": [
    {
     "data": {
      "text/plain": [
       "<AxesSubplot:xlabel='oldpeak'>"
      ]
     },
     "execution_count": 128,
     "metadata": {},
     "output_type": "execute_result"
    },
    {
     "data": {
      "image/png": "[encoded data removed]",
      "text/plain": [
       "<Figure size 432x288 with 1 Axes>"
      ]
     },
     "metadata": {
      "needs_background": "light"
     },
     "output_type": "display_data"
    }
   ],
   "source": [
    "sns.boxplot(df.oldpeak)"
   ]
  },
  {
   "cell_type": "code",
   "execution_count": 5,
   "id": "ae8b189e",
   "metadata": {},
   "outputs": [
    {
     "name": "stdout",
     "output_type": "stream",
     "text": [
      "Q3: 1.6\n",
      "Q1: 0.0\n",
      "IQR: 1.6\n",
      "HE: 4.0\n",
      "LE: -2.4000000000000004\n",
      "total_no_of_outliers: 5\n",
      "out_of: 303\n"
     ]
    }
   ],
   "source": [
    "Q3=df.oldpeak.quantile(0.75)\n",
    "Q1=df.oldpeak.quantile(0.25)\n",
    "print('Q3:',Q3)\n",
    "print('Q1:',Q1)\n",
    "IQR=Q3-Q1\n",
    "print('IQR:',IQR)\n",
    "HE=Q3+1.5*IQR\n",
    "LE=Q1-1.5*IQR\n",
    "print('HE:',HE)\n",
    "print('LE:',LE)\n",
    "_HE=len(df[df.oldpeak>HE])\n",
    "_LE=len(df[df.oldpeak<LE])\n",
    "No_of_outliers=_HE+_LE\n",
    "print('total_no_of_outliers:',No_of_outliers)\n",
    "total=df.oldpeak.value_counts().sum()\n",
    "print('out_of:',total)"
   ]
  },
  {
   "cell_type": "code",
   "execution_count": 6,
   "id": "04701062",
   "metadata": {},
   "outputs": [],
   "source": [
    "df.loc[df['oldpeak']>=HE,'oldpeak']=HE\n",
    "df.loc[df['oldpeak']<=LE,'oldpeak']=LE"
   ]
  },
  {
   "cell_type": "code",
   "execution_count": 7,
   "id": "d2522c2d",
   "metadata": {},
   "outputs": [
    {
     "data": {
      "text/plain": [
       "Text(0.5, 1.0, 'boxplot for oldpeak')"
      ]
     },
     "execution_count": 7,
     "metadata": {},
     "output_type": "execute_result"
    },
    {
     "data": {
      "image/png": "[encoded data removed]",
      "text/plain": [
       "<Figure size 432x288 with 1 Axes>"
      ]
     },
     "metadata": {
      "needs_background": "light"
     },
     "output_type": "display_data"
    }
   ],
   "source": [
    "sns.boxplot(df.oldpeak)\n",
    "plt.title(\"boxplot for oldpeak\")"
   ]
  },
  {
   "cell_type": "code",
   "execution_count": 132,
   "id": "ed60e3cf",
   "metadata": {},
   "outputs": [
    {
     "data": {
      "text/plain": [
       "<AxesSubplot:xlabel='oldpeak', ylabel='Density'>"
      ]
     },
     "execution_count": 132,
     "metadata": {},
     "output_type": "execute_result"
    },
    {
     "data": {
      "image/png": "[encoded data removed]",
      "text/plain": [
       "<Figure size 432x288 with 1 Axes>"
      ]
     },
     "metadata": {
      "needs_background": "light"
     },
     "output_type": "display_data"
    }
   ],
   "source": [
    "sns.distplot(df.oldpeak)"
   ]
  },
  {
   "cell_type": "code",
   "execution_count": null,
   "id": "d28f016c",
   "metadata": {},
   "outputs": [],
   "source": []
  },
  {
   "cell_type": "code",
   "execution_count": null,
   "id": "5176b5aa",
   "metadata": {},
   "outputs": [],
   "source": [
    "#Heart Disease Distribution based on Gender"
   ]
  },
  {
   "cell_type": "code",
   "execution_count": 140,
   "id": "f6df6cc4",
   "metadata": {},
   "outputs": [
    {
     "data": {
      "image/png": "[encoded data removed]",
      "text/plain": [
       "<Figure size 576x360 with 1 Axes>"
      ]
     },
     "metadata": {
      "needs_background": "light"
     },
     "output_type": "display_data"
    }
   ],
   "source": [
    "labels = ['False', 'True']\n",
    "label_gender = np.array([0, 1])\n",
    "label_gender2 = ['Male', 'Female']\n",
    "\n",
    "ax = pd.crosstab(df.sex, df.target).plot(kind = 'bar', figsize = (8,5))\n",
    "for rect in ax.patches:\n",
    "    ax.text (rect.get_x()+rect.get_width()/2, \n",
    "             rect.get_height()+1.25,rect.get_height(), \n",
    "             horizontalalignment='center', fontsize=10)\n",
    "plt.suptitle('Heart Disease Distribution based on Gender', fontweight='heavy', \n",
    "             x=0.065, y=0.98, ha='left', fontsize='16', fontfamily='sans-serif')\n",
    "plt.xlabel('Gender (Sex)')\n",
    "plt.ylabel('Total')\n",
    "plt.grid(axis='y', alpha=0.4)\n",
    "plt.legend(labels=labels, title='$\\\\bf{Target}$', fontsize='8', \n",
    "           title_fontsize='9', loc='upper left', frameon=True);"
   ]
  },
  {
   "cell_type": "code",
   "execution_count": null,
   "id": "e9c25bda",
   "metadata": {},
   "outputs": [],
   "source": [
    "#Heart Disease Distribution based on Major Vessels Total "
   ]
  },
  {
   "cell_type": "code",
   "execution_count": 141,
   "id": "8fe1409b",
   "metadata": {},
   "outputs": [
    {
     "data": {
      "image/png": "[encoded data removed]",
      "text/plain": [
       "<Figure size 576x360 with 1 Axes>"
      ]
     },
     "metadata": {
      "needs_background": "light"
     },
     "output_type": "display_data"
    }
   ],
   "source": [
    "labels = ['False', 'True']\n",
    "ax = pd.crosstab(df.ca, df.target).plot(kind='barh', figsize=(8, 5))\n",
    "for rect in ax.patches:\n",
    "    width, height = rect.get_width(), rect.get_height()\n",
    "    x, y = rect.get_xy()\n",
    "    ax.text (x+width/2, y+height/2, '{:.0f}'.format(width), \n",
    "             horizontalalignment='center', verticalalignment='center')\n",
    "plt.suptitle('Heart Disease Distribution based on Major Vessels Total', \n",
    "             fontweight='heavy', x=0.069, y=0.98, ha='left', fontsize='16', \n",
    "             fontfamily='sans-serif')\n",
    "plt.tight_layout(rect=[0, 0.04, 1, 1.025])\n",
    "plt.xlabel('Total', fontfamily='sans-serif', fontweight='bold')\n",
    "plt.ylabel('Number of Major Vessels', fontfamily='sans-serif', fontweight='bold')\n",
    "plt.yticks(rotation=0)\n",
    "plt.grid(axis='x', alpha=0.4)\n",
    "plt.grid(axis='y', alpha=0)\n",
    "plt.legend(labels=labels, title='$\\\\bf{Target}$', fontsize='8', frameon=True,\n",
    "           title_fontsize='9', loc='upper right');"
   ]
  },
  {
   "cell_type": "code",
   "execution_count": null,
   "id": "f179369e",
   "metadata": {},
   "outputs": [],
   "source": []
  },
  {
   "cell_type": "code",
   "execution_count": null,
   "id": "9717dc45",
   "metadata": {},
   "outputs": [],
   "source": [
    "# Heart Disease Scatter Plot based on Age "
   ]
  },
  {
   "cell_type": "code",
   "execution_count": 144,
   "id": "fe2d4d1e",
   "metadata": {},
   "outputs": [
    {
     "data": {
      "image/png": "[encoded data removed]",
      "text/plain": [
       "<Figure size 720x576 with 1 Axes>"
      ]
     },
     "metadata": {
      "needs_background": "light"
     },
     "output_type": "display_data"
    }
   ],
   "source": [
    "plt.figure(figsize=(10, 8))\n",
    "plt.suptitle('Heart Disease Scatter Plot based on Age', fontweight='heavy', \n",
    "             x=0.048, y=0.98, ha='left', fontsize='16', fontfamily='sans-serif')\n",
    "plt.scatter(x=df.age[df.target==0], y=df.thalach[(df.target==0)])\n",
    "plt.scatter(x=df.age[df.target==1], y=df.thalach[(df.target==1)])\n",
    "plt.legend(['False', 'True'], title='$\\\\bf{Type}$', fontsize='7', \n",
    "           title_fontsize='8', loc='upper right', frameon=True)\n",
    "plt.xlabel('Age', fontweight='bold', fontsize='11',\n",
    "           fontfamily='sans-serif')\n",
    "plt.ylabel('Max. Heart Rate', fontweight='bold', fontsize='11', \n",
    "           fontfamily='sans-serif')\n",
    "plt.ticklabel_format(style='plain', axis='both')\n",
    "plt.grid(axis='both', alpha=0.4, lw=0.5)\n",
    "plt.show()"
   ]
  },
  {
   "cell_type": "code",
   "execution_count": null,
   "id": "65c8d512",
   "metadata": {},
   "outputs": [],
   "source": []
  },
  {
   "cell_type": "code",
   "execution_count": null,
   "id": "176e883b",
   "metadata": {},
   "outputs": [],
   "source": [
    "#Chest Pain Type based on Age "
   ]
  },
  {
   "cell_type": "code",
   "execution_count": 146,
   "id": "096cbcdf",
   "metadata": {},
   "outputs": [
    {
     "data": {
      "image/png": "[encoded data removed]",
      "text/plain": [
       "<Figure size 1224x504 with 1 Axes>"
      ]
     },
     "metadata": {
      "needs_background": "light"
     },
     "output_type": "display_data"
    }
   ],
   "source": [
    "fig, ax = plt.subplots()\n",
    "fig.set_size_inches(17, 7)\n",
    "plt.suptitle('Chest Pain Type Distribution based on Age', fontweight='heavy', \n",
    "             x=0.028, y=0.98, ha='left', fontsize='20', fontfamily='sans-serif')\n",
    "sns.violinplot(x='cp', y='age', hue='target', data=df, ax=ax, \n",
    " boxprops=dict(alpha=0.9), linewidth=1.5, \n",
    "               split=True)\n",
    "plt.legend(title='$\\\\bf{Target}$', fontsize='10', title_fontsize='12', frameon=True,\n",
    "           loc='upper right')\n",
    "plt.xlabel('Chest Pain Type', fontweight='bold', fontsize='14', \n",
    "           fontfamily='sans-serif')\n",
    "plt.ylabel('Age', fontweight='bold', fontsize='14', fontfamily='sans-serif')\n",
    "plt.xticks(fontsize='11')\n",
    "plt.yticks(fontsize='11')\n",
    "plt.grid(axis='y', alpha=0.4)\n",
    "plt.show()"
   ]
  },
  {
   "cell_type": "code",
   "execution_count": null,
   "id": "b3a71df2",
   "metadata": {},
   "outputs": [],
   "source": []
  },
  {
   "cell_type": "code",
   "execution_count": null,
   "id": "cde7b576",
   "metadata": {},
   "outputs": [],
   "source": [
    "# Heart Disease Distribution based on Fasting Blood Sugar"
   ]
  },
  {
   "cell_type": "code",
   "execution_count": 147,
   "id": "dbc8535d",
   "metadata": {},
   "outputs": [
    {
     "data": {
      "image/png": "[encoded data removed]",
      "text/plain": [
       "<Figure size 576x360 with 1 Axes>"
      ]
     },
     "metadata": {
      "needs_background": "light"
     },
     "output_type": "display_data"
    }
   ],
   "source": [
    "labels = ['False', 'True']\n",
    "label_gender = np.array([0, 1])\n",
    "label_gender2 = ['< 120 mg/dl', '> 120 mg/dl']\n",
    "ax = pd.crosstab(df.fbs, df.target).plot(kind='bar', figsize=(8, 5), \n",
    "                                         stacked=True,\n",
    "                                         alpha=0.85)\n",
    "for rect in ax.patches:\n",
    "    width, height = rect.get_width(), rect.get_height()\n",
    "    x, y = rect.get_xy()\n",
    "    ax.text (x+width/2, y+height/2, '{:.0f}'.format(height), \n",
    "             horizontalalignment='center', verticalalignment='center')\n",
    "    plt.suptitle('Heart Disease Distribution based on Fasting Blood Sugar', \n",
    "             fontweight='heavy', x=0.065, y=0.98, ha='left', fontsize='16', \n",
    "             fontfamily='sans-serif')\n",
    "    plt.tight_layout(rect=[0, 0.04, 1, 1.025])\n",
    "plt.xlabel('Fasting Blood Sugar', fontfamily='sans-serif', fontweight='bold')\n",
    "plt.ylabel('Total', fontfamily='sans-serif', fontweight='bold')\n",
    "plt.xticks(label_gender, label_gender2, rotation=0)\n",
    "plt.grid(axis='y', alpha=0.4)\n",
    "plt.grid(axis='x', alpha=0)\n",
    "plt.legend(labels=labels, title='$\\\\bf{Target}$', fontsize='8', \n",
    "           title_fontsize='9', loc='upper left', frameon=True);\n"
   ]
  },
  {
   "cell_type": "code",
   "execution_count": null,
   "id": "d4158fe4",
   "metadata": {},
   "outputs": [],
   "source": []
  },
  {
   "cell_type": "code",
   "execution_count": null,
   "id": "32637ad5",
   "metadata": {},
   "outputs": [],
   "source": [
    "# Heatmap"
   ]
  },
  {
   "cell_type": "code",
   "execution_count": 148,
   "id": "06173a29",
   "metadata": {},
   "outputs": [
    {
     "data": {
      "image/png": "[encoded data removed]",
      "text/plain": [
       "<Figure size 1008x648 with 2 Axes>"
      ]
     },
     "metadata": {
      "needs_background": "light"
     },
     "output_type": "display_data"
    }
   ],
   "source": [
    "plt.figure(figsize=(14, 9))\n",
    "sns.heatmap(df.corr(), annot=True, cmap='Reds', linewidths=0.1)\n",
    "plt.suptitle('Correlation Map of Numerical Variables', fontweight='heavy', \n",
    "             x=0.03, y=0.98, ha='left', fontsize='16', fontfamily='sans-serif')\n",
    "plt.tight_layout(rect=[0, 0.04, 1, 1.01])"
   ]
  },
  {
   "cell_type": "code",
   "execution_count": null,
   "id": "3a4c7b9f",
   "metadata": {},
   "outputs": [],
   "source": []
  },
  {
   "cell_type": "code",
   "execution_count": null,
   "id": "bc53ff38",
   "metadata": {},
   "outputs": [],
   "source": [
    "# Dataset Pre-processing "
   ]
  },
  {
   "cell_type": "code",
   "execution_count": null,
   "id": "8db46d0c",
   "metadata": {},
   "outputs": [],
   "source": [
    "#This section will prepare the dataset before building the machine learning models."
   ]
  },
  {
   "cell_type": "code",
   "execution_count": null,
   "id": "1c29f9c5",
   "metadata": {},
   "outputs": [],
   "source": [
    "# 1. One-Hot Encoding"
   ]
  },
  {
   "cell_type": "code",
   "execution_count": null,
   "id": "a2b90518",
   "metadata": {},
   "outputs": [],
   "source": [
    "#The data pre-processing will be transforming categorical variables using one-hot encoding technique."
   ]
  },
  {
   "cell_type": "code",
   "execution_count": 149,
   "id": "f417c2b5",
   "metadata": {},
   "outputs": [],
   "source": [
    "# --- Creating Dummy Variables for cp, thal and slope ---\n",
    "cp = pd.get_dummies(df['cp'], prefix='cp')\n",
    "thal = pd.get_dummies(df['thal'], prefix='thal')\n",
    "slope = pd.get_dummies(df['slope'], prefix='slope')\n",
    "\n",
    "# --- Merge Dummy Variables to Main Data Frame ---\n",
    "frames = [df, cp, thal, slope]\n",
    "df = pd.concat(frames, axis = 1)"
   ]
  },
  {
   "cell_type": "code",
   "execution_count": 150,
   "id": "55fc6c59",
   "metadata": {},
   "outputs": [
    {
     "data": {
      "text/html": [
       "<style type=\"text/css\">\n",
       "#T_0afe6_row0_col0, #T_0afe6_row0_col1, #T_0afe6_row0_col2, #T_0afe6_row0_col3, #T_0afe6_row0_col5, #T_0afe6_row0_col17, #T_0afe6_row0_col19, #T_0afe6_row0_col22, #T_0afe6_row1_col1, #T_0afe6_row1_col6, #T_0afe6_row1_col7, #T_0afe6_row1_col9, #T_0afe6_row1_col12, #T_0afe6_row1_col16, #T_0afe6_row1_col20, #T_0afe6_row1_col22, #T_0afe6_row2_col10, #T_0afe6_row2_col12, #T_0afe6_row2_col15, #T_0afe6_row2_col20, #T_0afe6_row2_col24, #T_0afe6_row3_col1, #T_0afe6_row3_col6, #T_0afe6_row3_col10, #T_0afe6_row3_col12, #T_0afe6_row3_col15, #T_0afe6_row3_col20, #T_0afe6_row3_col24, #T_0afe6_row4_col4, #T_0afe6_row4_col6, #T_0afe6_row4_col8, #T_0afe6_row4_col10, #T_0afe6_row4_col12, #T_0afe6_row4_col14, #T_0afe6_row4_col20, #T_0afe6_row4_col24 {\n",
       "  background-color: #67001f;\n",
       "  color: #f1f1f1;\n",
       "  font-family: Segoe UI;\n",
       "}\n",
       "#T_0afe6_row0_col4 {\n",
       "  background-color: #ddcce4;\n",
       "  color: #000000;\n",
       "  font-family: Segoe UI;\n",
       "}\n",
       "#T_0afe6_row0_col6, #T_0afe6_row0_col7, #T_0afe6_row0_col8, #T_0afe6_row0_col10, #T_0afe6_row0_col11, #T_0afe6_row0_col12, #T_0afe6_row0_col13, #T_0afe6_row0_col14, #T_0afe6_row0_col15, #T_0afe6_row0_col16, #T_0afe6_row0_col18, #T_0afe6_row0_col20, #T_0afe6_row0_col21, #T_0afe6_row0_col23, #T_0afe6_row0_col24, #T_0afe6_row1_col0, #T_0afe6_row1_col5, #T_0afe6_row1_col8, #T_0afe6_row1_col10, #T_0afe6_row1_col11, #T_0afe6_row1_col13, #T_0afe6_row1_col14, #T_0afe6_row1_col15, #T_0afe6_row1_col17, #T_0afe6_row1_col18, #T_0afe6_row1_col19, #T_0afe6_row1_col21, #T_0afe6_row1_col23, #T_0afe6_row1_col24, #T_0afe6_row2_col1, #T_0afe6_row2_col4, #T_0afe6_row2_col5, #T_0afe6_row2_col6, #T_0afe6_row2_col8, #T_0afe6_row2_col11, #T_0afe6_row2_col13, #T_0afe6_row2_col14, #T_0afe6_row2_col16, #T_0afe6_row2_col17, #T_0afe6_row2_col18, #T_0afe6_row2_col19, #T_0afe6_row2_col21, #T_0afe6_row2_col22, #T_0afe6_row2_col23, #T_0afe6_row3_col3, #T_0afe6_row3_col5, #T_0afe6_row3_col8, #T_0afe6_row3_col11, #T_0afe6_row3_col13, #T_0afe6_row3_col14, #T_0afe6_row3_col16, #T_0afe6_row3_col17, #T_0afe6_row3_col18, #T_0afe6_row3_col19, #T_0afe6_row3_col21, #T_0afe6_row3_col22, #T_0afe6_row3_col23, #T_0afe6_row4_col1, #T_0afe6_row4_col2, #T_0afe6_row4_col3, #T_0afe6_row4_col5, #T_0afe6_row4_col9, #T_0afe6_row4_col11, #T_0afe6_row4_col13, #T_0afe6_row4_col15, #T_0afe6_row4_col16, #T_0afe6_row4_col17, #T_0afe6_row4_col18, #T_0afe6_row4_col19, #T_0afe6_row4_col21, #T_0afe6_row4_col22, #T_0afe6_row4_col23 {\n",
       "  background-color: #f7f4f9;\n",
       "  color: #000000;\n",
       "  font-family: Segoe UI;\n",
       "}\n",
       "#T_0afe6_row0_col9 {\n",
       "  background-color: #e53b95;\n",
       "  color: #f1f1f1;\n",
       "  font-family: Segoe UI;\n",
       "}\n",
       "#T_0afe6_row1_col2 {\n",
       "  background-color: #df2179;\n",
       "  color: #f1f1f1;\n",
       "  font-family: Segoe UI;\n",
       "}\n",
       "#T_0afe6_row1_col3, #T_0afe6_row2_col3 {\n",
       "  background-color: #cd8bc2;\n",
       "  color: #f1f1f1;\n",
       "  font-family: Segoe UI;\n",
       "}\n",
       "#T_0afe6_row1_col4 {\n",
       "  background-color: #cfa8d2;\n",
       "  color: #000000;\n",
       "  font-family: Segoe UI;\n",
       "}\n",
       "#T_0afe6_row2_col0 {\n",
       "  background-color: #e3d8ea;\n",
       "  color: #000000;\n",
       "  font-family: Segoe UI;\n",
       "}\n",
       "#T_0afe6_row2_col2, #T_0afe6_row3_col2 {\n",
       "  background-color: #cda0cd;\n",
       "  color: #000000;\n",
       "  font-family: Segoe UI;\n",
       "}\n",
       "#T_0afe6_row2_col7 {\n",
       "  background-color: #e53793;\n",
       "  color: #f1f1f1;\n",
       "  font-family: Segoe UI;\n",
       "}\n",
       "#T_0afe6_row2_col9 {\n",
       "  background-color: #d2b2d6;\n",
       "  color: #000000;\n",
       "  font-family: Segoe UI;\n",
       "}\n",
       "#T_0afe6_row3_col0 {\n",
       "  background-color: #d1155d;\n",
       "  color: #f1f1f1;\n",
       "  font-family: Segoe UI;\n",
       "}\n",
       "#T_0afe6_row3_col4 {\n",
       "  background-color: #dac5e0;\n",
       "  color: #000000;\n",
       "  font-family: Segoe UI;\n",
       "}\n",
       "#T_0afe6_row3_col7 {\n",
       "  background-color: #cb1155;\n",
       "  color: #f1f1f1;\n",
       "  font-family: Segoe UI;\n",
       "}\n",
       "#T_0afe6_row3_col9 {\n",
       "  background-color: #eeeaf4;\n",
       "  color: #000000;\n",
       "  font-family: Segoe UI;\n",
       "}\n",
       "#T_0afe6_row4_col0 {\n",
       "  background-color: #c60f53;\n",
       "  color: #f1f1f1;\n",
       "  font-family: Segoe UI;\n",
       "}\n",
       "#T_0afe6_row4_col7 {\n",
       "  background-color: #cb9ccb;\n",
       "  color: #f1f1f1;\n",
       "  font-family: Segoe UI;\n",
       "}\n",
       "</style>\n",
       "<table id=\"T_0afe6_\">\n",
       "  <thead>\n",
       "    <tr>\n",
       "      <th class=\"col_heading level0 col0\" >age</th>\n",
       "      <th class=\"col_heading level0 col1\" >sex</th>\n",
       "      <th class=\"col_heading level0 col2\" >cp</th>\n",
       "      <th class=\"col_heading level0 col3\" >trestbps</th>\n",
       "      <th class=\"col_heading level0 col4\" >chol</th>\n",
       "      <th class=\"col_heading level0 col5\" >fbs</th>\n",
       "      <th class=\"col_heading level0 col6\" >restecg</th>\n",
       "      <th class=\"col_heading level0 col7\" >thalach</th>\n",
       "      <th class=\"col_heading level0 col8\" >exang</th>\n",
       "      <th class=\"col_heading level0 col9\" >oldpeak</th>\n",
       "      <th class=\"col_heading level0 col10\" >slope</th>\n",
       "      <th class=\"col_heading level0 col11\" >ca</th>\n",
       "      <th class=\"col_heading level0 col12\" >thal</th>\n",
       "      <th class=\"col_heading level0 col13\" >target</th>\n",
       "      <th class=\"col_heading level0 col14\" >cp_0</th>\n",
       "      <th class=\"col_heading level0 col15\" >cp_1</th>\n",
       "      <th class=\"col_heading level0 col16\" >cp_2</th>\n",
       "      <th class=\"col_heading level0 col17\" >cp_3</th>\n",
       "      <th class=\"col_heading level0 col18\" >thal_0</th>\n",
       "      <th class=\"col_heading level0 col19\" >thal_1</th>\n",
       "      <th class=\"col_heading level0 col20\" >thal_2</th>\n",
       "      <th class=\"col_heading level0 col21\" >thal_3</th>\n",
       "      <th class=\"col_heading level0 col22\" >slope_0</th>\n",
       "      <th class=\"col_heading level0 col23\" >slope_1</th>\n",
       "      <th class=\"col_heading level0 col24\" >slope_2</th>\n",
       "    </tr>\n",
       "  </thead>\n",
       "  <tbody>\n",
       "    <tr>\n",
       "      <td id=\"T_0afe6_row0_col0\" class=\"data row0 col0\" >63</td>\n",
       "      <td id=\"T_0afe6_row0_col1\" class=\"data row0 col1\" >1</td>\n",
       "      <td id=\"T_0afe6_row0_col2\" class=\"data row0 col2\" >3</td>\n",
       "      <td id=\"T_0afe6_row0_col3\" class=\"data row0 col3\" >145</td>\n",
       "      <td id=\"T_0afe6_row0_col4\" class=\"data row0 col4\" >233.000000</td>\n",
       "      <td id=\"T_0afe6_row0_col5\" class=\"data row0 col5\" >1</td>\n",
       "      <td id=\"T_0afe6_row0_col6\" class=\"data row0 col6\" >0</td>\n",
       "      <td id=\"T_0afe6_row0_col7\" class=\"data row0 col7\" >150.000000</td>\n",
       "      <td id=\"T_0afe6_row0_col8\" class=\"data row0 col8\" >0</td>\n",
       "      <td id=\"T_0afe6_row0_col9\" class=\"data row0 col9\" >2.300000</td>\n",
       "      <td id=\"T_0afe6_row0_col10\" class=\"data row0 col10\" >0</td>\n",
       "      <td id=\"T_0afe6_row0_col11\" class=\"data row0 col11\" >0</td>\n",
       "      <td id=\"T_0afe6_row0_col12\" class=\"data row0 col12\" >1</td>\n",
       "      <td id=\"T_0afe6_row0_col13\" class=\"data row0 col13\" >1</td>\n",
       "      <td id=\"T_0afe6_row0_col14\" class=\"data row0 col14\" >0</td>\n",
       "      <td id=\"T_0afe6_row0_col15\" class=\"data row0 col15\" >0</td>\n",
       "      <td id=\"T_0afe6_row0_col16\" class=\"data row0 col16\" >0</td>\n",
       "      <td id=\"T_0afe6_row0_col17\" class=\"data row0 col17\" >1</td>\n",
       "      <td id=\"T_0afe6_row0_col18\" class=\"data row0 col18\" >0</td>\n",
       "      <td id=\"T_0afe6_row0_col19\" class=\"data row0 col19\" >1</td>\n",
       "      <td id=\"T_0afe6_row0_col20\" class=\"data row0 col20\" >0</td>\n",
       "      <td id=\"T_0afe6_row0_col21\" class=\"data row0 col21\" >0</td>\n",
       "      <td id=\"T_0afe6_row0_col22\" class=\"data row0 col22\" >1</td>\n",
       "      <td id=\"T_0afe6_row0_col23\" class=\"data row0 col23\" >0</td>\n",
       "      <td id=\"T_0afe6_row0_col24\" class=\"data row0 col24\" >0</td>\n",
       "    </tr>\n",
       "    <tr>\n",
       "      <td id=\"T_0afe6_row1_col0\" class=\"data row1 col0\" >37</td>\n",
       "      <td id=\"T_0afe6_row1_col1\" class=\"data row1 col1\" >1</td>\n",
       "      <td id=\"T_0afe6_row1_col2\" class=\"data row1 col2\" >2</td>\n",
       "      <td id=\"T_0afe6_row1_col3\" class=\"data row1 col3\" >130</td>\n",
       "      <td id=\"T_0afe6_row1_col4\" class=\"data row1 col4\" >250.000000</td>\n",
       "      <td id=\"T_0afe6_row1_col5\" class=\"data row1 col5\" >0</td>\n",
       "      <td id=\"T_0afe6_row1_col6\" class=\"data row1 col6\" >1</td>\n",
       "      <td id=\"T_0afe6_row1_col7\" class=\"data row1 col7\" >187.000000</td>\n",
       "      <td id=\"T_0afe6_row1_col8\" class=\"data row1 col8\" >0</td>\n",
       "      <td id=\"T_0afe6_row1_col9\" class=\"data row1 col9\" >3.500000</td>\n",
       "      <td id=\"T_0afe6_row1_col10\" class=\"data row1 col10\" >0</td>\n",
       "      <td id=\"T_0afe6_row1_col11\" class=\"data row1 col11\" >0</td>\n",
       "      <td id=\"T_0afe6_row1_col12\" class=\"data row1 col12\" >2</td>\n",
       "      <td id=\"T_0afe6_row1_col13\" class=\"data row1 col13\" >1</td>\n",
       "      <td id=\"T_0afe6_row1_col14\" class=\"data row1 col14\" >0</td>\n",
       "      <td id=\"T_0afe6_row1_col15\" class=\"data row1 col15\" >0</td>\n",
       "      <td id=\"T_0afe6_row1_col16\" class=\"data row1 col16\" >1</td>\n",
       "      <td id=\"T_0afe6_row1_col17\" class=\"data row1 col17\" >0</td>\n",
       "      <td id=\"T_0afe6_row1_col18\" class=\"data row1 col18\" >0</td>\n",
       "      <td id=\"T_0afe6_row1_col19\" class=\"data row1 col19\" >0</td>\n",
       "      <td id=\"T_0afe6_row1_col20\" class=\"data row1 col20\" >1</td>\n",
       "      <td id=\"T_0afe6_row1_col21\" class=\"data row1 col21\" >0</td>\n",
       "      <td id=\"T_0afe6_row1_col22\" class=\"data row1 col22\" >1</td>\n",
       "      <td id=\"T_0afe6_row1_col23\" class=\"data row1 col23\" >0</td>\n",
       "      <td id=\"T_0afe6_row1_col24\" class=\"data row1 col24\" >0</td>\n",
       "    </tr>\n",
       "    <tr>\n",
       "      <td id=\"T_0afe6_row2_col0\" class=\"data row2 col0\" >41</td>\n",
       "      <td id=\"T_0afe6_row2_col1\" class=\"data row2 col1\" >0</td>\n",
       "      <td id=\"T_0afe6_row2_col2\" class=\"data row2 col2\" >1</td>\n",
       "      <td id=\"T_0afe6_row2_col3\" class=\"data row2 col3\" >130</td>\n",
       "      <td id=\"T_0afe6_row2_col4\" class=\"data row2 col4\" >204.000000</td>\n",
       "      <td id=\"T_0afe6_row2_col5\" class=\"data row2 col5\" >0</td>\n",
       "      <td id=\"T_0afe6_row2_col6\" class=\"data row2 col6\" >0</td>\n",
       "      <td id=\"T_0afe6_row2_col7\" class=\"data row2 col7\" >172.000000</td>\n",
       "      <td id=\"T_0afe6_row2_col8\" class=\"data row2 col8\" >0</td>\n",
       "      <td id=\"T_0afe6_row2_col9\" class=\"data row2 col9\" >1.400000</td>\n",
       "      <td id=\"T_0afe6_row2_col10\" class=\"data row2 col10\" >2</td>\n",
       "      <td id=\"T_0afe6_row2_col11\" class=\"data row2 col11\" >0</td>\n",
       "      <td id=\"T_0afe6_row2_col12\" class=\"data row2 col12\" >2</td>\n",
       "      <td id=\"T_0afe6_row2_col13\" class=\"data row2 col13\" >1</td>\n",
       "      <td id=\"T_0afe6_row2_col14\" class=\"data row2 col14\" >0</td>\n",
       "      <td id=\"T_0afe6_row2_col15\" class=\"data row2 col15\" >1</td>\n",
       "      <td id=\"T_0afe6_row2_col16\" class=\"data row2 col16\" >0</td>\n",
       "      <td id=\"T_0afe6_row2_col17\" class=\"data row2 col17\" >0</td>\n",
       "      <td id=\"T_0afe6_row2_col18\" class=\"data row2 col18\" >0</td>\n",
       "      <td id=\"T_0afe6_row2_col19\" class=\"data row2 col19\" >0</td>\n",
       "      <td id=\"T_0afe6_row2_col20\" class=\"data row2 col20\" >1</td>\n",
       "      <td id=\"T_0afe6_row2_col21\" class=\"data row2 col21\" >0</td>\n",
       "      <td id=\"T_0afe6_row2_col22\" class=\"data row2 col22\" >0</td>\n",
       "      <td id=\"T_0afe6_row2_col23\" class=\"data row2 col23\" >0</td>\n",
       "      <td id=\"T_0afe6_row2_col24\" class=\"data row2 col24\" >1</td>\n",
       "    </tr>\n",
       "    <tr>\n",
       "      <td id=\"T_0afe6_row3_col0\" class=\"data row3 col0\" >56</td>\n",
       "      <td id=\"T_0afe6_row3_col1\" class=\"data row3 col1\" >1</td>\n",
       "      <td id=\"T_0afe6_row3_col2\" class=\"data row3 col2\" >1</td>\n",
       "      <td id=\"T_0afe6_row3_col3\" class=\"data row3 col3\" >120</td>\n",
       "      <td id=\"T_0afe6_row3_col4\" class=\"data row3 col4\" >236.000000</td>\n",
       "      <td id=\"T_0afe6_row3_col5\" class=\"data row3 col5\" >0</td>\n",
       "      <td id=\"T_0afe6_row3_col6\" class=\"data row3 col6\" >1</td>\n",
       "      <td id=\"T_0afe6_row3_col7\" class=\"data row3 col7\" >178.000000</td>\n",
       "      <td id=\"T_0afe6_row3_col8\" class=\"data row3 col8\" >0</td>\n",
       "      <td id=\"T_0afe6_row3_col9\" class=\"data row3 col9\" >0.800000</td>\n",
       "      <td id=\"T_0afe6_row3_col10\" class=\"data row3 col10\" >2</td>\n",
       "      <td id=\"T_0afe6_row3_col11\" class=\"data row3 col11\" >0</td>\n",
       "      <td id=\"T_0afe6_row3_col12\" class=\"data row3 col12\" >2</td>\n",
       "      <td id=\"T_0afe6_row3_col13\" class=\"data row3 col13\" >1</td>\n",
       "      <td id=\"T_0afe6_row3_col14\" class=\"data row3 col14\" >0</td>\n",
       "      <td id=\"T_0afe6_row3_col15\" class=\"data row3 col15\" >1</td>\n",
       "      <td id=\"T_0afe6_row3_col16\" class=\"data row3 col16\" >0</td>\n",
       "      <td id=\"T_0afe6_row3_col17\" class=\"data row3 col17\" >0</td>\n",
       "      <td id=\"T_0afe6_row3_col18\" class=\"data row3 col18\" >0</td>\n",
       "      <td id=\"T_0afe6_row3_col19\" class=\"data row3 col19\" >0</td>\n",
       "      <td id=\"T_0afe6_row3_col20\" class=\"data row3 col20\" >1</td>\n",
       "      <td id=\"T_0afe6_row3_col21\" class=\"data row3 col21\" >0</td>\n",
       "      <td id=\"T_0afe6_row3_col22\" class=\"data row3 col22\" >0</td>\n",
       "      <td id=\"T_0afe6_row3_col23\" class=\"data row3 col23\" >0</td>\n",
       "      <td id=\"T_0afe6_row3_col24\" class=\"data row3 col24\" >1</td>\n",
       "    </tr>\n",
       "    <tr>\n",
       "      <td id=\"T_0afe6_row4_col0\" class=\"data row4 col0\" >57</td>\n",
       "      <td id=\"T_0afe6_row4_col1\" class=\"data row4 col1\" >0</td>\n",
       "      <td id=\"T_0afe6_row4_col2\" class=\"data row4 col2\" >0</td>\n",
       "      <td id=\"T_0afe6_row4_col3\" class=\"data row4 col3\" >120</td>\n",
       "      <td id=\"T_0afe6_row4_col4\" class=\"data row4 col4\" >354.000000</td>\n",
       "      <td id=\"T_0afe6_row4_col5\" class=\"data row4 col5\" >0</td>\n",
       "      <td id=\"T_0afe6_row4_col6\" class=\"data row4 col6\" >1</td>\n",
       "      <td id=\"T_0afe6_row4_col7\" class=\"data row4 col7\" >163.000000</td>\n",
       "      <td id=\"T_0afe6_row4_col8\" class=\"data row4 col8\" >1</td>\n",
       "      <td id=\"T_0afe6_row4_col9\" class=\"data row4 col9\" >0.600000</td>\n",
       "      <td id=\"T_0afe6_row4_col10\" class=\"data row4 col10\" >2</td>\n",
       "      <td id=\"T_0afe6_row4_col11\" class=\"data row4 col11\" >0</td>\n",
       "      <td id=\"T_0afe6_row4_col12\" class=\"data row4 col12\" >2</td>\n",
       "      <td id=\"T_0afe6_row4_col13\" class=\"data row4 col13\" >1</td>\n",
       "      <td id=\"T_0afe6_row4_col14\" class=\"data row4 col14\" >1</td>\n",
       "      <td id=\"T_0afe6_row4_col15\" class=\"data row4 col15\" >0</td>\n",
       "      <td id=\"T_0afe6_row4_col16\" class=\"data row4 col16\" >0</td>\n",
       "      <td id=\"T_0afe6_row4_col17\" class=\"data row4 col17\" >0</td>\n",
       "      <td id=\"T_0afe6_row4_col18\" class=\"data row4 col18\" >0</td>\n",
       "      <td id=\"T_0afe6_row4_col19\" class=\"data row4 col19\" >0</td>\n",
       "      <td id=\"T_0afe6_row4_col20\" class=\"data row4 col20\" >1</td>\n",
       "      <td id=\"T_0afe6_row4_col21\" class=\"data row4 col21\" >0</td>\n",
       "      <td id=\"T_0afe6_row4_col22\" class=\"data row4 col22\" >0</td>\n",
       "      <td id=\"T_0afe6_row4_col23\" class=\"data row4 col23\" >0</td>\n",
       "      <td id=\"T_0afe6_row4_col24\" class=\"data row4 col24\" >1</td>\n",
       "    </tr>\n",
       "  </tbody>\n",
       "</table>\n"
      ],
      "text/plain": [
       "<pandas.io.formats.style.Styler at 0x2babfd1f9d0>"
      ]
     },
     "execution_count": 150,
     "metadata": {},
     "output_type": "execute_result"
    }
   ],
   "source": [
    "# --- Display New Data Frame ---\n",
    "df.head().style.background_gradient(cmap='PuRd').hide_index().set_properties(**{'font-family': 'Segoe UI'})"
   ]
  },
  {
   "cell_type": "code",
   "execution_count": null,
   "id": "3e278feb",
   "metadata": {},
   "outputs": [],
   "source": [
    "#After creating dummy variables, there are some unnecessary variables in the dataframe. These variables will be dropped in the next part."
   ]
  },
  {
   "cell_type": "code",
   "execution_count": null,
   "id": "bbfeb038",
   "metadata": {},
   "outputs": [],
   "source": [
    "#Dropping Unnecessary Variables"
   ]
  },
  {
   "cell_type": "code",
   "execution_count": null,
   "id": "c2df05af",
   "metadata": {},
   "outputs": [],
   "source": [
    "# The variables that unnecessary will be deleted."
   ]
  },
  {
   "cell_type": "code",
   "execution_count": 151,
   "id": "8c6d0c31",
   "metadata": {},
   "outputs": [],
   "source": [
    "# --- Drop Unnecessary Variables ---\n",
    "df = df.drop(columns = ['cp', 'thal', 'slope'])"
   ]
  },
  {
   "cell_type": "code",
   "execution_count": 152,
   "id": "6edeeb81",
   "metadata": {},
   "outputs": [
    {
     "data": {
      "text/html": [
       "<style type=\"text/css\">\n",
       "#T_8ffda_row0_col0, #T_8ffda_row0_col1, #T_8ffda_row0_col2, #T_8ffda_row0_col4, #T_8ffda_row0_col14, #T_8ffda_row0_col16, #T_8ffda_row0_col19, #T_8ffda_row1_col1, #T_8ffda_row1_col5, #T_8ffda_row1_col6, #T_8ffda_row1_col8, #T_8ffda_row1_col13, #T_8ffda_row1_col17, #T_8ffda_row1_col19, #T_8ffda_row2_col12, #T_8ffda_row2_col17, #T_8ffda_row2_col21, #T_8ffda_row3_col1, #T_8ffda_row3_col5, #T_8ffda_row3_col12, #T_8ffda_row3_col17, #T_8ffda_row3_col21, #T_8ffda_row4_col3, #T_8ffda_row4_col5, #T_8ffda_row4_col7, #T_8ffda_row4_col11, #T_8ffda_row4_col17, #T_8ffda_row4_col21 {\n",
       "  background-color: #67000d;\n",
       "  color: #f1f1f1;\n",
       "  font-family: Segoe UI;\n",
       "}\n",
       "#T_8ffda_row0_col3 {\n",
       "  background-color: #fdccb8;\n",
       "  color: #000000;\n",
       "  font-family: Segoe UI;\n",
       "}\n",
       "#T_8ffda_row0_col5, #T_8ffda_row0_col6, #T_8ffda_row0_col7, #T_8ffda_row0_col9, #T_8ffda_row0_col10, #T_8ffda_row0_col11, #T_8ffda_row0_col12, #T_8ffda_row0_col13, #T_8ffda_row0_col15, #T_8ffda_row0_col17, #T_8ffda_row0_col18, #T_8ffda_row0_col20, #T_8ffda_row0_col21, #T_8ffda_row1_col0, #T_8ffda_row1_col4, #T_8ffda_row1_col7, #T_8ffda_row1_col9, #T_8ffda_row1_col10, #T_8ffda_row1_col11, #T_8ffda_row1_col12, #T_8ffda_row1_col14, #T_8ffda_row1_col15, #T_8ffda_row1_col16, #T_8ffda_row1_col18, #T_8ffda_row1_col20, #T_8ffda_row1_col21, #T_8ffda_row2_col1, #T_8ffda_row2_col3, #T_8ffda_row2_col4, #T_8ffda_row2_col5, #T_8ffda_row2_col7, #T_8ffda_row2_col9, #T_8ffda_row2_col10, #T_8ffda_row2_col11, #T_8ffda_row2_col13, #T_8ffda_row2_col14, #T_8ffda_row2_col15, #T_8ffda_row2_col16, #T_8ffda_row2_col18, #T_8ffda_row2_col19, #T_8ffda_row2_col20, #T_8ffda_row3_col2, #T_8ffda_row3_col4, #T_8ffda_row3_col7, #T_8ffda_row3_col9, #T_8ffda_row3_col10, #T_8ffda_row3_col11, #T_8ffda_row3_col13, #T_8ffda_row3_col14, #T_8ffda_row3_col15, #T_8ffda_row3_col16, #T_8ffda_row3_col18, #T_8ffda_row3_col19, #T_8ffda_row3_col20, #T_8ffda_row4_col1, #T_8ffda_row4_col2, #T_8ffda_row4_col4, #T_8ffda_row4_col8, #T_8ffda_row4_col9, #T_8ffda_row4_col10, #T_8ffda_row4_col12, #T_8ffda_row4_col13, #T_8ffda_row4_col14, #T_8ffda_row4_col15, #T_8ffda_row4_col16, #T_8ffda_row4_col18, #T_8ffda_row4_col19, #T_8ffda_row4_col20 {\n",
       "  background-color: #fff5f0;\n",
       "  color: #000000;\n",
       "  font-family: Segoe UI;\n",
       "}\n",
       "#T_8ffda_row0_col8 {\n",
       "  background-color: #f34935;\n",
       "  color: #f1f1f1;\n",
       "  font-family: Segoe UI;\n",
       "}\n",
       "#T_8ffda_row1_col2, #T_8ffda_row2_col2 {\n",
       "  background-color: #fc8a6a;\n",
       "  color: #f1f1f1;\n",
       "  font-family: Segoe UI;\n",
       "}\n",
       "#T_8ffda_row1_col3 {\n",
       "  background-color: #fca98c;\n",
       "  color: #000000;\n",
       "  font-family: Segoe UI;\n",
       "}\n",
       "#T_8ffda_row2_col0 {\n",
       "  background-color: #fed8c7;\n",
       "  color: #000000;\n",
       "  font-family: Segoe UI;\n",
       "}\n",
       "#T_8ffda_row2_col6 {\n",
       "  background-color: #f24633;\n",
       "  color: #f1f1f1;\n",
       "  font-family: Segoe UI;\n",
       "}\n",
       "#T_8ffda_row2_col8 {\n",
       "  background-color: #fcb398;\n",
       "  color: #000000;\n",
       "  font-family: Segoe UI;\n",
       "}\n",
       "#T_8ffda_row3_col0 {\n",
       "  background-color: #d01d1f;\n",
       "  color: #f1f1f1;\n",
       "  font-family: Segoe UI;\n",
       "}\n",
       "#T_8ffda_row3_col3 {\n",
       "  background-color: #fdc6b0;\n",
       "  color: #000000;\n",
       "  font-family: Segoe UI;\n",
       "}\n",
       "#T_8ffda_row3_col6 {\n",
       "  background-color: #c9181d;\n",
       "  color: #f1f1f1;\n",
       "  font-family: Segoe UI;\n",
       "}\n",
       "#T_8ffda_row3_col8 {\n",
       "  background-color: #feeae0;\n",
       "  color: #000000;\n",
       "  font-family: Segoe UI;\n",
       "}\n",
       "#T_8ffda_row4_col0 {\n",
       "  background-color: #c5171c;\n",
       "  color: #f1f1f1;\n",
       "  font-family: Segoe UI;\n",
       "}\n",
       "#T_8ffda_row4_col6 {\n",
       "  background-color: #fc9b7c;\n",
       "  color: #000000;\n",
       "  font-family: Segoe UI;\n",
       "}\n",
       "</style>\n",
       "<table id=\"T_8ffda_\">\n",
       "  <thead>\n",
       "    <tr>\n",
       "      <th class=\"col_heading level0 col0\" >age</th>\n",
       "      <th class=\"col_heading level0 col1\" >sex</th>\n",
       "      <th class=\"col_heading level0 col2\" >trestbps</th>\n",
       "      <th class=\"col_heading level0 col3\" >chol</th>\n",
       "      <th class=\"col_heading level0 col4\" >fbs</th>\n",
       "      <th class=\"col_heading level0 col5\" >restecg</th>\n",
       "      <th class=\"col_heading level0 col6\" >thalach</th>\n",
       "      <th class=\"col_heading level0 col7\" >exang</th>\n",
       "      <th class=\"col_heading level0 col8\" >oldpeak</th>\n",
       "      <th class=\"col_heading level0 col9\" >ca</th>\n",
       "      <th class=\"col_heading level0 col10\" >target</th>\n",
       "      <th class=\"col_heading level0 col11\" >cp_0</th>\n",
       "      <th class=\"col_heading level0 col12\" >cp_1</th>\n",
       "      <th class=\"col_heading level0 col13\" >cp_2</th>\n",
       "      <th class=\"col_heading level0 col14\" >cp_3</th>\n",
       "      <th class=\"col_heading level0 col15\" >thal_0</th>\n",
       "      <th class=\"col_heading level0 col16\" >thal_1</th>\n",
       "      <th class=\"col_heading level0 col17\" >thal_2</th>\n",
       "      <th class=\"col_heading level0 col18\" >thal_3</th>\n",
       "      <th class=\"col_heading level0 col19\" >slope_0</th>\n",
       "      <th class=\"col_heading level0 col20\" >slope_1</th>\n",
       "      <th class=\"col_heading level0 col21\" >slope_2</th>\n",
       "    </tr>\n",
       "  </thead>\n",
       "  <tbody>\n",
       "    <tr>\n",
       "      <td id=\"T_8ffda_row0_col0\" class=\"data row0 col0\" >63</td>\n",
       "      <td id=\"T_8ffda_row0_col1\" class=\"data row0 col1\" >1</td>\n",
       "      <td id=\"T_8ffda_row0_col2\" class=\"data row0 col2\" >145</td>\n",
       "      <td id=\"T_8ffda_row0_col3\" class=\"data row0 col3\" >233.000000</td>\n",
       "      <td id=\"T_8ffda_row0_col4\" class=\"data row0 col4\" >1</td>\n",
       "      <td id=\"T_8ffda_row0_col5\" class=\"data row0 col5\" >0</td>\n",
       "      <td id=\"T_8ffda_row0_col6\" class=\"data row0 col6\" >150.000000</td>\n",
       "      <td id=\"T_8ffda_row0_col7\" class=\"data row0 col7\" >0</td>\n",
       "      <td id=\"T_8ffda_row0_col8\" class=\"data row0 col8\" >2.300000</td>\n",
       "      <td id=\"T_8ffda_row0_col9\" class=\"data row0 col9\" >0</td>\n",
       "      <td id=\"T_8ffda_row0_col10\" class=\"data row0 col10\" >1</td>\n",
       "      <td id=\"T_8ffda_row0_col11\" class=\"data row0 col11\" >0</td>\n",
       "      <td id=\"T_8ffda_row0_col12\" class=\"data row0 col12\" >0</td>\n",
       "      <td id=\"T_8ffda_row0_col13\" class=\"data row0 col13\" >0</td>\n",
       "      <td id=\"T_8ffda_row0_col14\" class=\"data row0 col14\" >1</td>\n",
       "      <td id=\"T_8ffda_row0_col15\" class=\"data row0 col15\" >0</td>\n",
       "      <td id=\"T_8ffda_row0_col16\" class=\"data row0 col16\" >1</td>\n",
       "      <td id=\"T_8ffda_row0_col17\" class=\"data row0 col17\" >0</td>\n",
       "      <td id=\"T_8ffda_row0_col18\" class=\"data row0 col18\" >0</td>\n",
       "      <td id=\"T_8ffda_row0_col19\" class=\"data row0 col19\" >1</td>\n",
       "      <td id=\"T_8ffda_row0_col20\" class=\"data row0 col20\" >0</td>\n",
       "      <td id=\"T_8ffda_row0_col21\" class=\"data row0 col21\" >0</td>\n",
       "    </tr>\n",
       "    <tr>\n",
       "      <td id=\"T_8ffda_row1_col0\" class=\"data row1 col0\" >37</td>\n",
       "      <td id=\"T_8ffda_row1_col1\" class=\"data row1 col1\" >1</td>\n",
       "      <td id=\"T_8ffda_row1_col2\" class=\"data row1 col2\" >130</td>\n",
       "      <td id=\"T_8ffda_row1_col3\" class=\"data row1 col3\" >250.000000</td>\n",
       "      <td id=\"T_8ffda_row1_col4\" class=\"data row1 col4\" >0</td>\n",
       "      <td id=\"T_8ffda_row1_col5\" class=\"data row1 col5\" >1</td>\n",
       "      <td id=\"T_8ffda_row1_col6\" class=\"data row1 col6\" >187.000000</td>\n",
       "      <td id=\"T_8ffda_row1_col7\" class=\"data row1 col7\" >0</td>\n",
       "      <td id=\"T_8ffda_row1_col8\" class=\"data row1 col8\" >3.500000</td>\n",
       "      <td id=\"T_8ffda_row1_col9\" class=\"data row1 col9\" >0</td>\n",
       "      <td id=\"T_8ffda_row1_col10\" class=\"data row1 col10\" >1</td>\n",
       "      <td id=\"T_8ffda_row1_col11\" class=\"data row1 col11\" >0</td>\n",
       "      <td id=\"T_8ffda_row1_col12\" class=\"data row1 col12\" >0</td>\n",
       "      <td id=\"T_8ffda_row1_col13\" class=\"data row1 col13\" >1</td>\n",
       "      <td id=\"T_8ffda_row1_col14\" class=\"data row1 col14\" >0</td>\n",
       "      <td id=\"T_8ffda_row1_col15\" class=\"data row1 col15\" >0</td>\n",
       "      <td id=\"T_8ffda_row1_col16\" class=\"data row1 col16\" >0</td>\n",
       "      <td id=\"T_8ffda_row1_col17\" class=\"data row1 col17\" >1</td>\n",
       "      <td id=\"T_8ffda_row1_col18\" class=\"data row1 col18\" >0</td>\n",
       "      <td id=\"T_8ffda_row1_col19\" class=\"data row1 col19\" >1</td>\n",
       "      <td id=\"T_8ffda_row1_col20\" class=\"data row1 col20\" >0</td>\n",
       "      <td id=\"T_8ffda_row1_col21\" class=\"data row1 col21\" >0</td>\n",
       "    </tr>\n",
       "    <tr>\n",
       "      <td id=\"T_8ffda_row2_col0\" class=\"data row2 col0\" >41</td>\n",
       "      <td id=\"T_8ffda_row2_col1\" class=\"data row2 col1\" >0</td>\n",
       "      <td id=\"T_8ffda_row2_col2\" class=\"data row2 col2\" >130</td>\n",
       "      <td id=\"T_8ffda_row2_col3\" class=\"data row2 col3\" >204.000000</td>\n",
       "      <td id=\"T_8ffda_row2_col4\" class=\"data row2 col4\" >0</td>\n",
       "      <td id=\"T_8ffda_row2_col5\" class=\"data row2 col5\" >0</td>\n",
       "      <td id=\"T_8ffda_row2_col6\" class=\"data row2 col6\" >172.000000</td>\n",
       "      <td id=\"T_8ffda_row2_col7\" class=\"data row2 col7\" >0</td>\n",
       "      <td id=\"T_8ffda_row2_col8\" class=\"data row2 col8\" >1.400000</td>\n",
       "      <td id=\"T_8ffda_row2_col9\" class=\"data row2 col9\" >0</td>\n",
       "      <td id=\"T_8ffda_row2_col10\" class=\"data row2 col10\" >1</td>\n",
       "      <td id=\"T_8ffda_row2_col11\" class=\"data row2 col11\" >0</td>\n",
       "      <td id=\"T_8ffda_row2_col12\" class=\"data row2 col12\" >1</td>\n",
       "      <td id=\"T_8ffda_row2_col13\" class=\"data row2 col13\" >0</td>\n",
       "      <td id=\"T_8ffda_row2_col14\" class=\"data row2 col14\" >0</td>\n",
       "      <td id=\"T_8ffda_row2_col15\" class=\"data row2 col15\" >0</td>\n",
       "      <td id=\"T_8ffda_row2_col16\" class=\"data row2 col16\" >0</td>\n",
       "      <td id=\"T_8ffda_row2_col17\" class=\"data row2 col17\" >1</td>\n",
       "      <td id=\"T_8ffda_row2_col18\" class=\"data row2 col18\" >0</td>\n",
       "      <td id=\"T_8ffda_row2_col19\" class=\"data row2 col19\" >0</td>\n",
       "      <td id=\"T_8ffda_row2_col20\" class=\"data row2 col20\" >0</td>\n",
       "      <td id=\"T_8ffda_row2_col21\" class=\"data row2 col21\" >1</td>\n",
       "    </tr>\n",
       "    <tr>\n",
       "      <td id=\"T_8ffda_row3_col0\" class=\"data row3 col0\" >56</td>\n",
       "      <td id=\"T_8ffda_row3_col1\" class=\"data row3 col1\" >1</td>\n",
       "      <td id=\"T_8ffda_row3_col2\" class=\"data row3 col2\" >120</td>\n",
       "      <td id=\"T_8ffda_row3_col3\" class=\"data row3 col3\" >236.000000</td>\n",
       "      <td id=\"T_8ffda_row3_col4\" class=\"data row3 col4\" >0</td>\n",
       "      <td id=\"T_8ffda_row3_col5\" class=\"data row3 col5\" >1</td>\n",
       "      <td id=\"T_8ffda_row3_col6\" class=\"data row3 col6\" >178.000000</td>\n",
       "      <td id=\"T_8ffda_row3_col7\" class=\"data row3 col7\" >0</td>\n",
       "      <td id=\"T_8ffda_row3_col8\" class=\"data row3 col8\" >0.800000</td>\n",
       "      <td id=\"T_8ffda_row3_col9\" class=\"data row3 col9\" >0</td>\n",
       "      <td id=\"T_8ffda_row3_col10\" class=\"data row3 col10\" >1</td>\n",
       "      <td id=\"T_8ffda_row3_col11\" class=\"data row3 col11\" >0</td>\n",
       "      <td id=\"T_8ffda_row3_col12\" class=\"data row3 col12\" >1</td>\n",
       "      <td id=\"T_8ffda_row3_col13\" class=\"data row3 col13\" >0</td>\n",
       "      <td id=\"T_8ffda_row3_col14\" class=\"data row3 col14\" >0</td>\n",
       "      <td id=\"T_8ffda_row3_col15\" class=\"data row3 col15\" >0</td>\n",
       "      <td id=\"T_8ffda_row3_col16\" class=\"data row3 col16\" >0</td>\n",
       "      <td id=\"T_8ffda_row3_col17\" class=\"data row3 col17\" >1</td>\n",
       "      <td id=\"T_8ffda_row3_col18\" class=\"data row3 col18\" >0</td>\n",
       "      <td id=\"T_8ffda_row3_col19\" class=\"data row3 col19\" >0</td>\n",
       "      <td id=\"T_8ffda_row3_col20\" class=\"data row3 col20\" >0</td>\n",
       "      <td id=\"T_8ffda_row3_col21\" class=\"data row3 col21\" >1</td>\n",
       "    </tr>\n",
       "    <tr>\n",
       "      <td id=\"T_8ffda_row4_col0\" class=\"data row4 col0\" >57</td>\n",
       "      <td id=\"T_8ffda_row4_col1\" class=\"data row4 col1\" >0</td>\n",
       "      <td id=\"T_8ffda_row4_col2\" class=\"data row4 col2\" >120</td>\n",
       "      <td id=\"T_8ffda_row4_col3\" class=\"data row4 col3\" >354.000000</td>\n",
       "      <td id=\"T_8ffda_row4_col4\" class=\"data row4 col4\" >0</td>\n",
       "      <td id=\"T_8ffda_row4_col5\" class=\"data row4 col5\" >1</td>\n",
       "      <td id=\"T_8ffda_row4_col6\" class=\"data row4 col6\" >163.000000</td>\n",
       "      <td id=\"T_8ffda_row4_col7\" class=\"data row4 col7\" >1</td>\n",
       "      <td id=\"T_8ffda_row4_col8\" class=\"data row4 col8\" >0.600000</td>\n",
       "      <td id=\"T_8ffda_row4_col9\" class=\"data row4 col9\" >0</td>\n",
       "      <td id=\"T_8ffda_row4_col10\" class=\"data row4 col10\" >1</td>\n",
       "      <td id=\"T_8ffda_row4_col11\" class=\"data row4 col11\" >1</td>\n",
       "      <td id=\"T_8ffda_row4_col12\" class=\"data row4 col12\" >0</td>\n",
       "      <td id=\"T_8ffda_row4_col13\" class=\"data row4 col13\" >0</td>\n",
       "      <td id=\"T_8ffda_row4_col14\" class=\"data row4 col14\" >0</td>\n",
       "      <td id=\"T_8ffda_row4_col15\" class=\"data row4 col15\" >0</td>\n",
       "      <td id=\"T_8ffda_row4_col16\" class=\"data row4 col16\" >0</td>\n",
       "      <td id=\"T_8ffda_row4_col17\" class=\"data row4 col17\" >1</td>\n",
       "      <td id=\"T_8ffda_row4_col18\" class=\"data row4 col18\" >0</td>\n",
       "      <td id=\"T_8ffda_row4_col19\" class=\"data row4 col19\" >0</td>\n",
       "      <td id=\"T_8ffda_row4_col20\" class=\"data row4 col20\" >0</td>\n",
       "      <td id=\"T_8ffda_row4_col21\" class=\"data row4 col21\" >1</td>\n",
       "    </tr>\n",
       "  </tbody>\n",
       "</table>\n"
      ],
      "text/plain": [
       "<pandas.io.formats.style.Styler at 0x2bac07ffdc0>"
      ]
     },
     "execution_count": 152,
     "metadata": {},
     "output_type": "execute_result"
    }
   ],
   "source": [
    "# --- Display New Data Frame ---\n",
    "df.head().style.background_gradient(cmap='Reds').hide_index().set_properties(**{'font-family': 'Segoe UI'})"
   ]
  },
  {
   "cell_type": "code",
   "execution_count": null,
   "id": "555ebd9f",
   "metadata": {},
   "outputs": [],
   "source": []
  },
  {
   "cell_type": "code",
   "execution_count": null,
   "id": "b715fdc4",
   "metadata": {},
   "outputs": [],
   "source": [
    "#features separating"
   ]
  },
  {
   "cell_type": "code",
   "execution_count": null,
   "id": "fea06e8a",
   "metadata": {},
   "outputs": [],
   "source": [
    "#In this section, the 'target' (dependent) column will be seperated from independent columns."
   ]
  },
  {
   "cell_type": "code",
   "execution_count": 12,
   "id": "7d8862e3",
   "metadata": {},
   "outputs": [],
   "source": [
    "# --- Seperating Dependent Features ---\n",
    "x = df.drop(['target'], axis=1)\n",
    "y = df['target']"
   ]
  },
  {
   "cell_type": "code",
   "execution_count": null,
   "id": "85aa1a3e",
   "metadata": {},
   "outputs": [],
   "source": [
    "# In this section, data normalization will be performed to normalize the range of independent variables or features of data.\n",
    "# Data normalization will use min-max normalization."
   ]
  },
  {
   "cell_type": "code",
   "execution_count": 13,
   "id": "ff56bf01",
   "metadata": {},
   "outputs": [],
   "source": [
    "# --- Data Normalization using Min-Max Method ---\n",
    "x = MinMaxScaler().fit_transform(x)"
   ]
  },
  {
   "cell_type": "code",
   "execution_count": null,
   "id": "4f9adbe4",
   "metadata": {},
   "outputs": [],
   "source": [
    "#Splitting the Dataset"
   ]
  },
  {
   "cell_type": "code",
   "execution_count": null,
   "id": "6de48958",
   "metadata": {},
   "outputs": [],
   "source": [
    "#The dataset will be splitted into 80:20 ratio (80% training and 20% testing)."
   ]
  },
  {
   "cell_type": "code",
   "execution_count": 14,
   "id": "ad1f667e",
   "metadata": {},
   "outputs": [],
   "source": [
    "# --- Splitting Dataset into 80:20 ---\n",
    "x_train, x_test, y_train, y_test = train_test_split(x, y, test_size=0.2, random_state=4)"
   ]
  },
  {
   "cell_type": "code",
   "execution_count": null,
   "id": "6e16f7fd",
   "metadata": {},
   "outputs": [],
   "source": [
    "# Model Implementation"
   ]
  },
  {
   "cell_type": "code",
   "execution_count": null,
   "id": "3a5eca4a",
   "metadata": {},
   "outputs": [],
   "source": [
    "#Logistic Regression"
   ]
  },
  {
   "cell_type": "code",
   "execution_count": 15,
   "id": "5fc1dfe7",
   "metadata": {},
   "outputs": [],
   "source": [
    "# --- Applying Logistic Regression ---\n",
    "LRclassifier = LogisticRegression(max_iter=1000, random_state=1, solver='liblinear', penalty='l1')\n",
    "LRclassifier.fit(x_train, y_train)\n",
    "\n",
    "y_pred_LR = LRclassifier.predict(x_test)"
   ]
  },
  {
   "cell_type": "code",
   "execution_count": 29,
   "id": "93fc534d",
   "metadata": {},
   "outputs": [
    {
     "name": "stdout",
     "output_type": "stream",
     "text": [
      ".:. Logistic Regression Accuracy:\u001b[1m 90.16% .:.\n",
      "\n",
      "\u001b[1m.: Classification Report\u001b[0m\n",
      "*************************\n",
      "              precision    recall  f1-score   support\n",
      "\n",
      "           0       0.88      0.88      0.88        25\n",
      "           1       0.92      0.92      0.92        36\n",
      "\n",
      "    accuracy                           0.90        61\n",
      "   macro avg       0.90      0.90      0.90        61\n",
      "weighted avg       0.90      0.90      0.90        61\n",
      "\n"
     ]
    }
   ],
   "source": [
    "# --- LR Accuracy ---\n",
    "LRAcc = accuracy_score(y_pred_LR, y_test)\n",
    "print('.:. Logistic Regression Accuracy:'+'\\033[1m {:.2f}%'.format(LRAcc*100)+' .:.')\n",
    "\n",
    "# --- LR Classification Report ---\n",
    "print('\\n\\033[1m'+'.: Classification Report'+'\\033[0m')\n",
    "print('*' * 25)\n",
    "print(classification_report(y_test, y_pred_LR))\n",
    "\n",
    "# --- Performance Evaluation ---\n",
    "#print('\\n\\033[1m'+'.: Performance Evaluation'+'\\033[0m')\n",
    "#print('*' * 26)\n",
    "#fig, ((ax1, ax2), (ax3, ax4)) = plt.subplots(2, 2, figsize=(14, 10))\n",
    "\n",
    "# --- LR Confusion Matrix ---\n",
    "#logmatrix = ConfusionMatrix(LRclassifier, ax=ax1, cmap='PuRd',\n",
    "          #                  title='Logistic Regression Confusion Matrix')\n",
    "#logmatrix.fit(x_train, y_train)\n",
    "#logmatrix.score(x_test, y_test)\n",
    "#logmatrix.finalize()\n",
    "\n",
    "# --- LR ROC AUC ---\n",
    "#logrocauc = ROCAUC(LRclassifier, classes=['False', 'True'], ax=ax2,\n",
    "       #            title='Logistic Regression ROC AUC Plot')\n",
    "#logrocauc.fit(x_train, y_train)\n",
    "#logrocauc.score(x_test, y_test)\n",
    "#@logrocauc.finalize()\n",
    "\n",
    "# --- LR Learning Curve ---\n",
    "#loglc = LearningCurve(LRclassifier, ax=ax3, title='Logistic Regression Learning Curve')\n",
    "#loglc.fit(x_train, y_train)\n",
    "#loglc.finalize()\n",
    "\n",
    "# --- LR Precision Recall Curve ---\n",
    "#logcurve = PrecisionRecallCurve(LRclassifier, ax=ax4, ap_score=True, iso_f1_curves=True,\n",
    "               #                 title='Logistic Regression Precision-Recall Curve')\n",
    "#logcurve.fit(x_train, y_train)\n",
    "#logcurve.score(x_test, y_test)\n",
    "#logcurve.finalize()\n",
    "\n",
    "\n",
    "#plt.tight_layout()"
   ]
  }
 ],
 "metadata": {
  "kernelspec": {
   "display_name": "Python 3 (ipykernel)",
   "language": "python",
   "name": "python3"
  },
  "language_info": {
   "codemirror_mode": {
    "name": "ipython",
    "version": 3
   },
   "file_extension": ".py",
   "mimetype": "text/x-python",
   "name": "python",
   "nbconvert_exporter": "python",
   "pygments_lexer": "ipython3",
   "version": "3.9.7"
  }
 },
 "nbformat": 4,
 "nbformat_minor": 5
}
